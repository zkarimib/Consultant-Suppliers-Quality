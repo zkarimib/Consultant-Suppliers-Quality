{
 "cells": [
  {
   "cell_type": "markdown",
   "id": "a8358b76",
   "metadata": {},
   "source": [
    "# Statistical Analysis:T-Test\n",
    "Hypothesis / Assumption: Most companies replace departures with new hires, so small differences during any time period are part of a normal turnover and thus not meaningful, but when differences are large, it can be an indicator of a company's ability to attract and retain talent. We identifying the companies for which either departures or hires are real using tests of statistical significance.\n",
    "\n",
    "H0(null hypothesis): There is no evidence that there is a real (statistically significant) difference between departures and new hires.(Departures = Hires)\n",
    "\n",
    "H1(alternative hypothesis): There is evidence that there is a real difference between departures and new hires (Departures =! Hires)\n"
   ]
  },
  {
   "cell_type": "code",
   "execution_count": null,
   "id": "1ab4008e",
   "metadata": {},
   "outputs": [],
   "source": [
    "import pandas as pd\n",
    "from scipy.stats import ttest_ind \n",
    "\n",
    "# Load the Excel file\n",
    "excel_file = 'C:/Users/zkarimib@volvocars.com/OneDrive - Volvo Cars/Zohreh/Consultant Supplier Quality/Counsultant Supplier/Excel File/Company Excel LTI reports/All Consultant Company/out/Combine.xlsx'\n",
    "\n",
    "# Assume the sheet name is 'Company Movements'\n",
    "sheet_name = 'Company Movements'\n",
    "\n",
    "# Read the data into a DataFrame\n",
    "df = pd.read_excel(excel_file, sheet_name=sheet_name)\n",
    "\n",
    "# Get unique company names\n",
    "unique_companies = df['Company_Name'].unique()\n",
    "\n",
    "# Create a new column\n",
    "df['Good Consultant2'] = ''\n",
    "\n",
    "# Iterate over unique companies\n",
    "for company in unique_companies:\n",
    "    # Extract data for the current company\n",
    "    company_data = df[df['Company_Name'] == company]\n",
    "    departures = company_data['Departures']\n",
    "    hires = company_data['Hires']\n",
    "    \n",
    "        # Not normal, dependent, but equal variances, use Mann-Whitney U Test\n",
    "    stat, pvalue = ttest_ind(departures, hires)\n",
    "    result = 'Departures =! Hires' if pvalue < 0.025 else 'Departures = Hires'\n",
    "        \n",
    "\n",
    "    # Update the 'Good Consultant' column\n",
    "    df.loc[df['Company_Name'] == company, 'Good Consultant2'] = result\n",
    "\n",
    "# Display the DataFrame with the new column\n",
    "print(df[['Company_Name', 'Good Consultant2']])\n"
   ]
  },
  {
   "cell_type": "markdown",
   "id": "5795197c",
   "metadata": {},
   "source": [
    " The script applies a T-test to each company's talent flow data to determine if there's a significant difference between the number of departures and hires.\n",
    "\n",
    "#### Analysis Workflow:\n",
    "\n",
    "1. **Data Preparation:**\n",
    "\n",
    "-The 'Company Movements' sheet is read into a DataFrame.\n",
    "-Unique company names are extracted for analysis.\n",
    "\n",
    "2. **Column Initialization:**\n",
    "\n",
    "-A new column, 'Good Consultant2', is added to the DataFrame to store the results of the statistical test.\n",
    "\n",
    "3. **Iterative T-Test:**\n",
    "\n",
    "-For each company, the script extracts the data on departures and hires.\n",
    "-A T-test (ttest_ind) is performed to compare these two datasets.\n",
    "-The p-value is used to determine if there's a significant difference between departures and hires (with a significance level of 2.5%).\n",
    "\n",
    "4. **Result Assignment:**\n",
    "\n",
    "-Based on the p-value, the 'Good Consultant2' column is updated with either 'Departures =! Hires' (indicating a significant difference) or 'Departures = Hires' (no significant difference).\n",
    "\n",
    "5. **Output Display: **\n",
    "\n",
    "-The DataFrame, with the new column showing the test results for each company, is printed.\n",
    "\n",
    "#### Purpose of the Analysis:\n",
    "This method provides insights into whether consulting firms have a balanced talent flow (similar numbers of departures and hires) or if there are significant disparities.\n",
    "The statistical approach ensures that observed differences are not due to random chance, adding rigor to the analysis.\n",
    "Such insights can inform strategic decisions in talent management, helping companies understand if they are losing more talent than they are gaining or vice versa."
   ]
  },
  {
   "cell_type": "markdown",
   "id": "8791114c",
   "metadata": {},
   "source": [
    "# Exporting DataFrame with T-Test Results to Excel"
   ]
  },
  {
   "cell_type": "code",
   "execution_count": 4,
   "id": "a8c735bb",
   "metadata": {},
   "outputs": [],
   "source": [
    "# Save the DataFrame to Excel\n",
    "df.to_excel('C:/Users/zkarimib@volvocars.com/OneDrive - Volvo Cars/Zohreh/Consultant Supplier Quality/Counsultant Supplier/Excel File/Company Excel LTI reports/All Consultant Company/out//statistical Methods.xlsx', index=False)"
   ]
  },
  {
   "cell_type": "code",
   "execution_count": null,
   "id": "cc95e16b",
   "metadata": {},
   "outputs": [],
   "source": []
  }
 ],
 "metadata": {
  "kernelspec": {
   "display_name": "Python 3 (ipykernel)",
   "language": "python",
   "name": "python3"
  },
  "language_info": {
   "codemirror_mode": {
    "name": "ipython",
    "version": 3
   },
   "file_extension": ".py",
   "mimetype": "text/x-python",
   "name": "python",
   "nbconvert_exporter": "python",
   "pygments_lexer": "ipython3",
   "version": "3.11.5"
  }
 },
 "nbformat": 4,
 "nbformat_minor": 5
}
