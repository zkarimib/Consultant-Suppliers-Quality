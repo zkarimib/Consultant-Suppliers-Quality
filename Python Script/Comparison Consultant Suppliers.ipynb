{
 "cells": [
  {
   "cell_type": "markdown",
   "id": "758c8d4d",
   "metadata": {},
   "source": [
    "# Consulting Supplier Quality \n",
    "\n",
    "## Project Overview\n",
    "\n",
    "This project evaluates consultant suppliers in Sweden using data from LinkedIn Talent Insights. The analysis focuses on tech talent acquisition in the automotive sector, covering a 12-month period up to October 18, 2023.\n",
    "\n",
    "## Key Focus Areas\n",
    "\n",
    "- **Tech Talent Evaluation**: Identification of talents with skills in C/C++, Embedded Systems, Design Engineering, Mechanical Engineering, Software Development, Simulink, MATLAB, Python.\n",
    "- **Automotive Companies Analysis**: Analysis of data related to OEMs and suppliers in the automotive industry.\n",
    "- **Talent Acquisition Trends**: Insights into hiring trends, growth, departures, ratio, net changes and more in the companies.\n",
    "\n",
    "## Data Sources \n",
    "\n",
    "- Data consists of 42 Excel files, each from a different consultant company.\n",
    "\n",
    "\n",
    "## Methodology\n",
    "\n",
    "1. **Data Aggregation**: Combining data from 42 Excel files.\n",
    "2. **Data Analysis**: Utilizing Python for preliminary analysis and Power BI for advanced visualizations.\n",
    "3. **Insights Generation**: Identifying quality of consultant suppliers.\n",
    "\n",
    "\n"
   ]
  },
  {
   "cell_type": "markdown",
   "id": "ad01d60d",
   "metadata": {},
   "source": [
    "# Summary for Initial Setup and Imports\n"
   ]
  },
  {
   "cell_type": "code",
   "execution_count": 1,
   "id": "e093d9e8",
   "metadata": {},
   "outputs": [],
   "source": [
    "import pandas as pd\n",
    "import os\n",
    "import re\n",
    "import numpy as np\n",
    "import warnings\n",
    "import matplotlib.pyplot as plt\n",
    "import seaborn as sns\n",
    "from scipy.stats import ttest_ind \n",
    "from sklearn.model_selection import train_test_split\n",
    "from sklearn.linear_model import LinearRegression\n",
    "from sklearn.metrics import mean_squared_error, r2_score\n",
    "\n",
    "warnings.filterwarnings(\"ignore\", category=UserWarning, module=\"openpyxl\")"
   ]
  },
  {
   "cell_type": "markdown",
   "id": "17f314cc",
   "metadata": {},
   "source": [
    "Description:\n",
    "\n",
    "Library Imports: This section imports essential Python libraries needed for the project.\n",
    "\n",
    "**pandas**: Used for data manipulation and analysis.\n",
    "\n",
    "**os**: Provides a way of using operating system dependent functionality.\n",
    "\n",
    "**re**: Allows for regular expression operations.\n",
    "\n",
    "**numpy**: Adds support for large, multi-dimensional arrays and matrices, along with a large collection of high-level mathematical functions to operate on these arrays.\n",
    "\n",
    "**matplotlib.pyplot and seaborn**: Used for data visualization.\n",
    "\n",
    "**scipy.stats**: Provides statistical functions, in this case, ttest_ind for independent sample t-tests.\n",
    "\n",
    "**sklearn**: Essential for machine learning data processing, model building, and evaluation. Specific imports include train_test_split, LinearRegression, mean_squared_error, and r2_score.\n",
    "Configuration:\n",
    "\n",
    "warnings.filterwarnings(\"ignore\", category=UserWarning, module=\"openpyxl\"): Configures the script to ignore specific warnings, particularly those related to openpyxl, which is a library used for reading Excel files."
   ]
  },
  {
   "cell_type": "markdown",
   "id": "b36957f5",
   "metadata": {},
   "source": [
    "# Summary for File Path Configuration\n"
   ]
  },
  {
   "cell_type": "code",
   "execution_count": 2,
   "id": "9042b8b9",
   "metadata": {},
   "outputs": [
    {
     "name": "stdout",
     "output_type": "stream",
     "text": [
      "C:/Users/zkarimib@volvocars.com/OneDrive - Volvo Cars/Zohreh/Github/Datasets/All Consultant Companies/in/\n"
     ]
    }
   ],
   "source": [
    "path = \"C:/Users/zkarimib@volvocars.com/OneDrive - Volvo Cars/Zohreh/Github/Datasets/All Consultant Companies/\"\n",
    "input_path = path + \"in\" + \"/\"\n",
    "output_path = path + \"out\" + \"/\"\n",
    "filter_path = path + \"filter\" + \"/\"\n",
    "print(input_path)"
   ]
  },
  {
   "cell_type": "markdown",
   "id": "4f66e13b",
   "metadata": {},
   "source": [
    "\n",
    "#### Base Path Setup\n",
    "- **`path` Variable**: Defined to store the base directory where all project-related files are located. This directory appears to be a OneDrive folder used for storing the data and outputs of the project.\n",
    "\n",
    "#### Sub-directory Paths\n",
    "- **`input_path`**: Designated to hold the path for input files. In this project, these would likely be the Excel files exported from LinkedIn Talent Insights.\n",
    "- **`output_path`**: Set up for storing output files, which could include processed datasets, results from data analysis, or any exported data files.\n",
    "- **`filter_path`**: Used for storing files related to filtering criteria or other specific processing needs.\n",
    "\n",
    "#### Print Statement\n",
    "- **`print(input_path)`**: This line is used to output the `input_path` to the console, which is a good practice to verify that paths are set up correctly.\n"
   ]
  },
  {
   "cell_type": "markdown",
   "id": "1899d2a4",
   "metadata": {},
   "source": [
    "# Loading and Preparing Filter Data from Excel Files"
   ]
  },
  {
   "cell_type": "markdown",
   "id": "bffe59e8",
   "metadata": {},
   "source": [
    "\n",
    "**File Listing**: The script begins by listing all files in the input_path directory, helping to verify the available data files for processing.\n"
   ]
  },
  {
   "cell_type": "code",
   "execution_count": 3,
   "id": "3b126dca",
   "metadata": {},
   "outputs": [
    {
     "name": "stdout",
     "output_type": "stream",
     "text": [
      "['Company 1.xlsx', 'Company 10.xlsx', 'Company 11.xlsx', 'Company 12.xlsx', 'Company 13.xlsx', 'Company 14.xlsx', 'Company 15.xlsx', 'Company 16.xlsx', 'Company 17.xlsx', 'Company 18.xlsx', 'Company 19.xlsx', 'Company 2.xlsx', 'Company 20.xlsx', 'Company 21.xlsx', 'Company 22.xlsx', 'Company 23.xlsx', 'Company 24.xlsx', 'Company 25.xlsx', 'Company 26.xlsx', 'Company 27.xlsx', 'Company 28.xlsx', 'Company 29.xlsx', 'Company 3.xlsx', 'Company 30.xlsx', 'Company 31.xlsx', 'Company 32.xlsx', 'Company 33.xlsx', 'Company 34.xlsx', 'Company 35.xlsx', 'Company 36.xlsx', 'Company 37.xlsx', 'Company 38.xlsx', 'Company 39.xlsx', 'Company 4.xlsx', 'Company 40.xlsx', 'Company 41.xlsx', 'Company 42.xlsx', 'Company 5.xlsx', 'Company 6.xlsx', 'Company 7.xlsx', 'Company 8.xlsx', 'Company 9.xlsx']\n"
     ]
    }
   ],
   "source": [
    "file_list = os.listdir(input_path)\n",
    "print(file_list)"
   ]
  },
  {
   "cell_type": "markdown",
   "id": "fd68564c",
   "metadata": {},
   "source": [
    "**Consultant Companies Data Processing**:\n",
    "Loads data from the \"Consulting Firms.xlsx\" file.\n",
    "Extracts unique consulting companies, applies regex escaping for special characters, and converts them to lowercase for consistent comparison."
   ]
  },
  {
   "cell_type": "code",
   "execution_count": 4,
   "id": "57a30dcd",
   "metadata": {},
   "outputs": [],
   "source": [
    "consultant_filter_file = pd.read_excel(filter_path + \"Consulting Firms.xlsx\")\n",
    "consultant_filter_list = consultant_filter_file['Consulting Company'].unique().tolist()\n",
    "consultant_filter_list = [re.escape(item) for item in consultant_filter_list]\n",
    "consultant_filter_list = sorted([element.lower() for element in consultant_filter_list])\n",
    "#print(consultant_filter_list)"
   ]
  },
  {
   "cell_type": "markdown",
   "id": "c37b3bcb",
   "metadata": {},
   "source": [
    "**Automotive Companies Data Processing:**\n",
    "Similar processing is applied to \"Automotive Companies.xlsx\", preparing a list of automotive companies."
   ]
  },
  {
   "cell_type": "code",
   "execution_count": 5,
   "id": "c6cb1188",
   "metadata": {},
   "outputs": [],
   "source": [
    "# Load the Excel file for automative_company\n",
    "automative_company_filter_file = pd.read_excel(filter_path + \"Automotive Companies.xlsx\")\n",
    "automative_company_filter_list = automative_company_filter_file['Company'].tolist()\n",
    "automative_company_filter_list = [re.escape(item) for item in automative_company_filter_list]\n",
    "automative_company_filter_list = sorted([element.lower() for element in automative_company_filter_list])\n",
    "#print(automative_company_filter_list)"
   ]
  },
  {
   "cell_type": "markdown",
   "id": "b1cd899d",
   "metadata": {},
   "source": [
    "**Top 50 Companies Data Processing:**\n",
    "Loads \"Top 50 stora arbestgivare.xlsx\" and creates a dictionary mapping companies to their respective ranks.\n",
    "Converts dictionary keys to lowercase for uniformity."
   ]
  },
  {
   "cell_type": "code",
   "execution_count": 6,
   "id": "d12b4599",
   "metadata": {},
   "outputs": [],
   "source": [
    "# Load the Excel file\n",
    "top_50_company_filter_file = pd.read_excel(filter_path + \"Top 50 stora arbestgivare.xlsx\")"
   ]
  },
  {
   "cell_type": "code",
   "execution_count": 7,
   "id": "cbc1edf8",
   "metadata": {},
   "outputs": [],
   "source": [
    "# Create a dictionary from the 'Top 50 Arbestgivare' column to the 'Rank' column\n",
    "top_50_company_filter_dict = dict(zip(top_50_company_filter_file['Top 50 Arbestgivare'], top_50_company_filter_file['Rank']))\n",
    "\n",
    "#print(top_50_company_filter_dict)"
   ]
  },
  {
   "cell_type": "code",
   "execution_count": 8,
   "id": "b5e9f836",
   "metadata": {},
   "outputs": [],
   "source": [
    "top_50_company_filter_dict_lower = {key.lower(): value for key, value in top_50_company_filter_dict.items()}\n",
    "#print(top_50_company_filter_dict_lower)"
   ]
  },
  {
   "cell_type": "code",
   "execution_count": 9,
   "id": "856c0661",
   "metadata": {},
   "outputs": [],
   "source": [
    "def partial_case_insensitive_lookup(company_name, dictionary):\n",
    "    for key, value in dictionary.items():\n",
    "        if key.lower() in company_name.lower() or company_name.lower() in key.lower():\n",
    "            return value\n",
    "    return None  # return None if no match is found"
   ]
  },
  {
   "cell_type": "markdown",
   "id": "e1d003a6",
   "metadata": {},
   "source": [
    "### Description of Partial Case-Insensitive Lookup Function\n",
    "\n",
    "#### Purpose\n",
    "This function is designed to perform a partial, case-insensitive lookup. It checks whether the `company_name` (input string) partially matches any keys in the provided dictionary, regardless of case sensitivity.\n",
    "\n",
    "#### Parameters\n",
    "- **`company_name`**: The name of the company to search for within the dictionary keys.\n",
    "- **`dictionary`**: A dictionary object where keys represent company names.\n",
    "\n",
    "#### Process\n",
    "Iterates through each key-value pair in the dictionary. For each key, it checks if the key is a substring of `company_name` or vice versa, without considering case sensitivity.\n",
    "\n",
    "#### Return Value\n",
    "Returns the value associated with the first matching key. If no match is found, it returns `None`.\n",
    "\n",
    "This function is particularly useful in scenarios where exact string matching is not feasible due to variations in case or partial string matches. It can be applied in data cleaning, especially when dealing with human-entered data where inconsistencies in naming conventions are common.\n"
   ]
  },
  {
   "cell_type": "markdown",
   "id": "fde26f41",
   "metadata": {},
   "source": [
    "# Exploratory Data Analysis (EDA)"
   ]
  },
  {
   "cell_type": "markdown",
   "id": "12e1e469",
   "metadata": {},
   "source": [
    "### 1.Sheet Name Checking Script\n",
    "\n",
    "##### Initial Setup\n",
    "- The script starts by reading the first Excel file in the `input_path` directory and storing its sheet names in a set.\n",
    "\n",
    "##### Iteration and Comparison\n",
    "- It then iterates through the rest of the Excel files in the directory.\n",
    "- For each file, it reads the sheet names and compares them with the sheet names of the first file.\n",
    "\n",
    "##### Output\n",
    "- **Matching Sheet Names**: If the sheet names match those in the first file, it prints a confirmation message.\n",
    "- **Discrepancies in Sheet Names**: If there is a discrepancy in sheet names, it prints a message indicating which file has different sheets.\n"
   ]
  },
  {
   "cell_type": "code",
   "execution_count": 12,
   "id": "e2ebcea5",
   "metadata": {},
   "outputs": [],
   "source": [
    "#Checking Sheet Names in Excel Files\n",
    "\n",
    "first_file_path = os.path.join(input_path, file_list[0])\n",
    "first_xls = pd.ExcelFile(first_file_path)\n",
    "first_sheet_names = set(first_xls.sheet_names)\n",
    "\n",
    "for file in file_list[1:]:\n",
    "    file_path = os.path.join(input_path, file)\n",
    "    xls = pd.ExcelFile(file_path)\n",
    "    sheet_names = set(xls.sheet_names)\n",
    "    \n",
    "    #if sheet_names == first_sheet_names:\n",
    "        #print(f\"Sheets are the same as in the first file.\")\n",
    "    #else:\n",
    "        #print(f\"Sheets in {file} are different from the first file.\")"
   ]
  },
  {
   "cell_type": "markdown",
   "id": "963472ee",
   "metadata": {},
   "source": [
    "### Functionality of Sheet Name Checking Script\n",
    "\n",
    "#### Initial Setup\n",
    "- The script starts by reading the first Excel file in the `input_path` directory and storing its sheet names in a set.\n",
    "\n",
    "#### Iteration and Comparison\n",
    "- It then iterates through the rest of the Excel files in the directory.\n",
    "- For each file, it reads the sheet names and compares them with the sheet names of the first file.\n",
    "\n",
    "#### Output\n",
    "- **Matching Sheet Names**: If the sheet names match those in the first file, it prints a confirmation message.\n",
    "- **Discrepancies in Sheet Names**: If there is a discrepancy in sheet names, it prints a message indicating which file has different sheets.\n"
   ]
  },
  {
   "cell_type": "markdown",
   "id": "89f33489",
   "metadata": {},
   "source": [
    "### Results of Sheet Name Comparison\n",
    "\n",
    "- **Consistency in Sheet Names**: It was found that all the Excel files have the same sheet names as the first file. This consistency was confirmed for each file processed by the script.\n",
    "\n"
   ]
  },
  {
   "cell_type": "markdown",
   "id": "dd6f9051",
   "metadata": {},
   "source": [
    "### 2. Listing Sheet Names in an Excel File\n",
    "\n",
    "The script segment below is designed to list the names of the sheets present in the first Excel file located in the `input_path`.\n"
   ]
  },
  {
   "cell_type": "code",
   "execution_count": 13,
   "id": "1e9d999c",
   "metadata": {},
   "outputs": [
    {
     "name": "stdout",
     "output_type": "stream",
     "text": [
      "['Overview', 'Locations', 'Company Movements', 'Location Movements', 'Industry Movements', 'Titles', 'Skills', 'Attrition by Functions', 'Attrition by Locations', 'Schools', 'Degrees', 'Fields of Study']\n"
     ]
    }
   ],
   "source": [
    "sheets_list = pd.ExcelFile(input_path + file_list[0])\n",
    "print(sheets_list.sheet_names)\n",
    "    "
   ]
  },
  {
   "cell_type": "markdown",
   "id": "8a5b537d",
   "metadata": {},
   "source": [
    "### 3.Displaying Column Names for Each Sheet in an Excel File\n",
    "\n",
    "This script section lists the names of all columns for each sheet in the first Excel file within the `input_path`.\n"
   ]
  },
  {
   "cell_type": "code",
   "execution_count": 14,
   "id": "ad124d6c",
   "metadata": {},
   "outputs": [
    {
     "name": "stdout",
     "output_type": "stream",
     "text": [
      "Columns for sheet 'Overview': ['se-cr-alten-globalse-231113', 'Unnamed: 1', 'Unnamed: 2', 'se-cr-alten-swe-231113']\n",
      "Columns for sheet 'Locations': ['Location', 'Employees', '1y hires', 'Job posts', 'N Last Year Employee', 'Your %', '1 Year Growth', '% of employees']\n",
      "Columns for sheet 'Company Movements': ['Company', 'Departures', 'Hires', 'Net change', 'Ratio']\n",
      "Columns for sheet 'Location Movements': ['Location', 'Departures', 'Hires', 'Net change', 'Ratio']\n",
      "Columns for sheet 'Industry Movements': ['Industry', 'Departures', 'Hires', 'Net change', 'Ratio']\n",
      "Columns for sheet 'Titles': ['Titles', 'Employees', '1y hires', 'Job posts', 'N Last Year Employee', 'Your %', '1 Year Growth', '% of employees']\n",
      "Columns for sheet 'Skills': ['Skills', 'Employees', '1y hires', 'Job posts', 'N Last Year Employee', 'Your %', '1 Year Growth', '% of employees']\n",
      "Columns for sheet 'Attrition by Functions': ['Function', 'Attrition', 'Your attrition', '% of employees']\n",
      "Columns for sheet 'Attrition by Locations': ['Location', 'Attrition', 'Your attrition', '% of employees']\n",
      "Columns for sheet 'Schools': ['Schools', 'Employees', '1y hires', 'N Last Year Employee', 'Your %', '1 Year Growth', '% of employees']\n",
      "Columns for sheet 'Degrees': ['Degree', 'Company', 'Industry', 'Your company']\n",
      "Columns for sheet 'Fields of Study': ['Fields of study', 'Employees', '1y hires', 'N Last Year Employee', 'Your %', '1 Year Growth', '% of employees']\n"
     ]
    }
   ],
   "source": [
    "for sheet_name in sheets_list.sheet_names:\n",
    "     df = pd.read_excel(os.path.join(input_path, file_list[0]), sheet_name)\n",
    "     print(f\"Columns for sheet '{sheet_name}': {df.columns.tolist()}\")"
   ]
  },
  {
   "cell_type": "markdown",
   "id": "71a09b6b",
   "metadata": {},
   "source": [
    "### Functionality of the Column Name Listing Script\n",
    "\n",
    "#### Looping Through Sheets\n",
    "- The script iterates over each sheet name in `sheets_list.sheet_names`.\n",
    "\n",
    "#### Reading Each Sheet\n",
    "- For each sheet, it reads the data into a DataFrame `df` using `pd.read_excel`, specifying the sheet name.\n",
    "\n",
    "#### Printing Column Names\n",
    "- The column names of each DataFrame are then printed. This is done by accessing the `columns` attribute of `df`, converting it to a list, and printing it along with the sheet name.\n",
    "\n",
    "### Purpose of the Script\n",
    "\n",
    "- This process is crucial for gaining an overview of the data structure within each sheet of the Excel file.\n",
    "- It helps in identifying which columns are available for analysis or need processing in subsequent steps.\n"
   ]
  },
  {
   "cell_type": "markdown",
   "id": "f098c1ea",
   "metadata": {},
   "source": [
    "### 4.Displaying Column Names for Each Sheet in Every Excel File\n",
    "\n",
    "This script section lists the names of all columns for each sheet in every Excel file located in the `input_path`.\n"
   ]
  },
  {
   "cell_type": "code",
   "execution_count": 18,
   "id": "d913c51d",
   "metadata": {},
   "outputs": [],
   "source": [
    "#The name of columns for each sheets and each file\n",
    "\n",
    "\n",
    "for file_name in file_list:\n",
    "    excel_file = pd.ExcelFile(os.path.join(input_path, file_name))\n",
    "    sheets_list = excel_file.sheet_names\n",
    "\n",
    "    #for sheet_name in sheets_list:\n",
    "        #sheet_temp = excel_file.parse(sheet_name)\n",
    "        #print(f\"Columns for sheet '{sheet_name}' in file '{file_name}': \\n{sheet_temp.columns}\\n\")\n",
    "    "
   ]
  },
  {
   "cell_type": "markdown",
   "id": "716e5d92",
   "metadata": {},
   "source": [
    "### Purpose:\n",
    "\n",
    "This process provides a comprehensive overview of the data structure in every sheet of each Excel file in the directory.\n",
    "It's instrumental in understanding the variety and consistency of data columns across multiple files and sheets.\n",
    "This level of detail is particularly useful in projects that involve complex data sets spread across numerous files, ensuring thoroughness in data analysis and preprocessing."
   ]
  },
  {
   "cell_type": "markdown",
   "id": "c6ed5a42",
   "metadata": {},
   "source": [
    "### 5.Displaying First Five Rows for Each Sheet in All Excel Files\n",
    "\n",
    "The following script segment is designed to display the first five rows of data for each sheet in all Excel files within the `input_path`.\n"
   ]
  },
  {
   "cell_type": "code",
   "execution_count": 22,
   "id": "9196298f",
   "metadata": {},
   "outputs": [],
   "source": [
    "for file_name in file_list:\n",
    "    excel_file = pd.ExcelFile(os.path.join(input_path, file_name))\n",
    "    sheets_list = excel_file.sheet_names\n",
    "\n",
    "    for sheet_name in sheets_list:\n",
    "        sheet_temp = excel_file.parse(sheet_name)\n",
    "       \n",
    "        #print(f\"5 head row for '{sheet_name}' in file '{file_name}': \\n{sheet_temp.head()}\\n\")"
   ]
  },
  {
   "cell_type": "markdown",
   "id": "1f8895e6",
   "metadata": {},
   "source": [
    "#### Purpose:\n",
    "\n",
    "This step is vital for a preliminary examination of the data. It allows for a quick check of data formatting, column names, and the type of data contained in each sheet.\n",
    "Displaying the first few rows of each sheet helps in identifying any immediate data inconsistencies, missing values, or peculiarities that may require attention in the data cleaning or preprocessing stages.\n",
    "This overview is particularly beneficial when dealing with large datasets spread across multiple files and sheets, as it aids in quickly assessing the data's nature and structure without needing to manually open and inspect each file."
   ]
  },
  {
   "cell_type": "markdown",
   "id": "9d15531e",
   "metadata": {},
   "source": [
    "# Data Validation:"
   ]
  },
  {
   "cell_type": "markdown",
   "id": "1ad1b870",
   "metadata": {},
   "source": [
    "### Checking for Missing Values in DataFrames\n",
    "\n",
    "This script section is designed to identify and report missing values in each sheet of every Excel file located in the `input_path`.\n"
   ]
  },
  {
   "cell_type": "code",
   "execution_count": 23,
   "id": "9129912e",
   "metadata": {},
   "outputs": [],
   "source": [
    "# Check for missing values in the DataFrame\n",
    "\n",
    "for file_name in file_list:\n",
    "    excel_file = pd.ExcelFile(os.path.join(input_path, file_name))\n",
    "    sheets_list = excel_file.sheet_names\n",
    "\n",
    "    for sheet_name in sheets_list:\n",
    "        sheet_temp = excel_file.parse(sheet_name)\n",
    "        \n",
    "        missing_values = sheet_temp.isnull().sum()\n",
    "        #print(f\"Missing values for sheet '{sheet_name}' in file '{file_name}': \\n{missing_values}\\n\")"
   ]
  },
  {
   "cell_type": "markdown",
   "id": "11998f31",
   "metadata": {},
   "source": [
    "# Aggregating and Processing Data "
   ]
  },
  {
   "cell_type": "markdown",
   "id": "cb9cc6b0",
   "metadata": {},
   "source": [
    "\n",
    "### - Consolidating and Enhancing Data from Multiple Excel Sheets"
   ]
  },
  {
   "cell_type": "code",
   "execution_count": 24,
   "id": "dd1a65dd",
   "metadata": {},
   "outputs": [
    {
     "name": "stderr",
     "output_type": "stream",
     "text": [
      "C:\\Users\\zkarimib@volvocars.com\\AppData\\Local\\Temp\\ipykernel_4464\\1221772961.py:30: FutureWarning: The behavior of DataFrame concatenation with empty or all-NA entries is deprecated. In a future version, this will no longer exclude empty or all-NA columns when determining the result dtypes. To retain the old behavior, exclude the relevant entries before the concat operation.\n",
      "  final_sheet = pd.concat([final_sheet, temp_sheet], ignore_index=True)\n",
      "C:\\Users\\zkarimib@volvocars.com\\AppData\\Local\\Temp\\ipykernel_4464\\1221772961.py:30: FutureWarning: The behavior of DataFrame concatenation with empty or all-NA entries is deprecated. In a future version, this will no longer exclude empty or all-NA columns when determining the result dtypes. To retain the old behavior, exclude the relevant entries before the concat operation.\n",
      "  final_sheet = pd.concat([final_sheet, temp_sheet], ignore_index=True)\n",
      "C:\\Users\\zkarimib@volvocars.com\\AppData\\Local\\Temp\\ipykernel_4464\\1221772961.py:30: FutureWarning: The behavior of DataFrame concatenation with empty or all-NA entries is deprecated. In a future version, this will no longer exclude empty or all-NA columns when determining the result dtypes. To retain the old behavior, exclude the relevant entries before the concat operation.\n",
      "  final_sheet = pd.concat([final_sheet, temp_sheet], ignore_index=True)\n",
      "C:\\Users\\zkarimib@volvocars.com\\AppData\\Local\\Temp\\ipykernel_4464\\1221772961.py:30: FutureWarning: The behavior of DataFrame concatenation with empty or all-NA entries is deprecated. In a future version, this will no longer exclude empty or all-NA columns when determining the result dtypes. To retain the old behavior, exclude the relevant entries before the concat operation.\n",
      "  final_sheet = pd.concat([final_sheet, temp_sheet], ignore_index=True)\n",
      "C:\\Users\\zkarimib@volvocars.com\\AppData\\Local\\Temp\\ipykernel_4464\\1221772961.py:30: FutureWarning: The behavior of DataFrame concatenation with empty or all-NA entries is deprecated. In a future version, this will no longer exclude empty or all-NA columns when determining the result dtypes. To retain the old behavior, exclude the relevant entries before the concat operation.\n",
      "  final_sheet = pd.concat([final_sheet, temp_sheet], ignore_index=True)\n",
      "C:\\Users\\zkarimib@volvocars.com\\AppData\\Local\\Temp\\ipykernel_4464\\1221772961.py:30: FutureWarning: The behavior of DataFrame concatenation with empty or all-NA entries is deprecated. In a future version, this will no longer exclude empty or all-NA columns when determining the result dtypes. To retain the old behavior, exclude the relevant entries before the concat operation.\n",
      "  final_sheet = pd.concat([final_sheet, temp_sheet], ignore_index=True)\n",
      "C:\\Users\\zkarimib@volvocars.com\\AppData\\Local\\Temp\\ipykernel_4464\\1221772961.py:30: FutureWarning: The behavior of DataFrame concatenation with empty or all-NA entries is deprecated. In a future version, this will no longer exclude empty or all-NA columns when determining the result dtypes. To retain the old behavior, exclude the relevant entries before the concat operation.\n",
      "  final_sheet = pd.concat([final_sheet, temp_sheet], ignore_index=True)\n",
      "C:\\Users\\zkarimib@volvocars.com\\AppData\\Local\\Temp\\ipykernel_4464\\1221772961.py:30: FutureWarning: The behavior of DataFrame concatenation with empty or all-NA entries is deprecated. In a future version, this will no longer exclude empty or all-NA columns when determining the result dtypes. To retain the old behavior, exclude the relevant entries before the concat operation.\n",
      "  final_sheet = pd.concat([final_sheet, temp_sheet], ignore_index=True)\n",
      "C:\\Users\\zkarimib@volvocars.com\\AppData\\Local\\Temp\\ipykernel_4464\\1221772961.py:30: FutureWarning: The behavior of DataFrame concatenation with empty or all-NA entries is deprecated. In a future version, this will no longer exclude empty or all-NA columns when determining the result dtypes. To retain the old behavior, exclude the relevant entries before the concat operation.\n",
      "  final_sheet = pd.concat([final_sheet, temp_sheet], ignore_index=True)\n",
      "C:\\Users\\zkarimib@volvocars.com\\AppData\\Local\\Temp\\ipykernel_4464\\1221772961.py:30: FutureWarning: The behavior of DataFrame concatenation with empty or all-NA entries is deprecated. In a future version, this will no longer exclude empty or all-NA columns when determining the result dtypes. To retain the old behavior, exclude the relevant entries before the concat operation.\n",
      "  final_sheet = pd.concat([final_sheet, temp_sheet], ignore_index=True)\n",
      "C:\\Users\\zkarimib@volvocars.com\\AppData\\Local\\Temp\\ipykernel_4464\\1221772961.py:30: FutureWarning: The behavior of DataFrame concatenation with empty or all-NA entries is deprecated. In a future version, this will no longer exclude empty or all-NA columns when determining the result dtypes. To retain the old behavior, exclude the relevant entries before the concat operation.\n",
      "  final_sheet = pd.concat([final_sheet, temp_sheet], ignore_index=True)\n",
      "C:\\Users\\zkarimib@volvocars.com\\AppData\\Local\\Temp\\ipykernel_4464\\1221772961.py:30: FutureWarning: The behavior of DataFrame concatenation with empty or all-NA entries is deprecated. In a future version, this will no longer exclude empty or all-NA columns when determining the result dtypes. To retain the old behavior, exclude the relevant entries before the concat operation.\n",
      "  final_sheet = pd.concat([final_sheet, temp_sheet], ignore_index=True)\n",
      "C:\\Users\\zkarimib@volvocars.com\\AppData\\Local\\Temp\\ipykernel_4464\\1221772961.py:30: FutureWarning: The behavior of DataFrame concatenation with empty or all-NA entries is deprecated. In a future version, this will no longer exclude empty or all-NA columns when determining the result dtypes. To retain the old behavior, exclude the relevant entries before the concat operation.\n",
      "  final_sheet = pd.concat([final_sheet, temp_sheet], ignore_index=True)\n",
      "C:\\Users\\zkarimib@volvocars.com\\AppData\\Local\\Temp\\ipykernel_4464\\1221772961.py:30: FutureWarning: The behavior of DataFrame concatenation with empty or all-NA entries is deprecated. In a future version, this will no longer exclude empty or all-NA columns when determining the result dtypes. To retain the old behavior, exclude the relevant entries before the concat operation.\n",
      "  final_sheet = pd.concat([final_sheet, temp_sheet], ignore_index=True)\n"
     ]
    }
   ],
   "source": [
    "# Get the sheet names from the first file in the list\n",
    "initial_sheets_list = pd.ExcelFile(input_path + file_list[0]).sheet_names\n",
    "\n",
    "final_result = dict()\n",
    "\n",
    "for sheet_slected in initial_sheets_list:\n",
    "    final_sheet = pd.DataFrame()\n",
    "    \n",
    "    for file_name in file_list:\n",
    "        temp_sheet = pd.read_excel(input_path + file_name, sheet_slected, index_col=False)\n",
    "        \n",
    "        if sheet_slected == 'Degrees':\n",
    "            temp_sheet = temp_sheet.rename(columns={temp_sheet.columns[0]: 'Degree', temp_sheet.columns[1]: 'Company'})\n",
    "            \n",
    "        \n",
    "\n",
    "        if (sheet_slected == 'Company Movements'):\n",
    "            temp_sheet['Consultant Company'] = temp_sheet['Company'].str.lower().str.contains(\"|\".join(consultant_filter_list)).apply(lambda x: 1 if x else 0)\n",
    "            temp_sheet['Automotive Company'] = temp_sheet['Company'].str.lower().str.contains(\"|\".join(automative_company_filter_list)).apply(lambda x: 1 if x else 0)\n",
    "            \n",
    "            temp_sheet['company_lower'] = temp_sheet['Company'].str.lower()\n",
    "            \n",
    "            temp_sheet['Top 50 stora arbestgivare']=temp_sheet['company_lower'].apply(lambda x: partial_case_insensitive_lookup(x, top_50_company_filter_dict_lower))\n",
    "            temp_sheet['Top 50 stora arbestgivare'] = temp_sheet['Top 50 stora arbestgivare'].astype(str)\n",
    "            temp_sheet['Top 50 stora arbestgivare'].fillna('more than 50', inplace=True)\n",
    "            \n",
    "            \n",
    "            \n",
    "        temp_sheet = temp_sheet.assign(Company_Name=file_name.split(\".\")[0])\n",
    "        final_sheet = pd.concat([final_sheet, temp_sheet], ignore_index=True)\n",
    "         \n",
    "        \n",
    "    final_result[sheet_slected] = final_sheet\n"
   ]
  },
  {
   "cell_type": "markdown",
   "id": "24cd53ae",
   "metadata": {},
   "source": [
    "### Overview of Operations\n",
    "\n",
    "#### Initial Sheet Name Extraction\n",
    "- Retrieves the list of sheet names from the first file in the list to set a standard for processing.\n",
    "\n",
    "#### Dataframe Initialization\n",
    "- Initializes a dictionary to store the final aggregated data from all sheets.\n",
    "\n",
    "#### Sheet-Wise Data Processing\n",
    "- Iterates through each selected sheet, reading and processing data from all files.\n",
    "- Applies specific transformations depending on the sheet type (e.g., renaming columns in 'Degrees', categorizing companies in 'Company Movements').\n",
    "\n",
    "#### Company Categorization and Ranking\n",
    "- Includes logic to categorize companies as 'Consultant' or 'Automotive', and to rank them based on predefined criteria.\n",
    "\n",
    "#### Data Aggregation\n",
    "- Combines data from individual files into a comprehensive DataFrame for each sheet.\n",
    "\n",
    "### Purpose\n",
    "\n",
    "- This script segment is tailored for handling diverse datasets spread across multiple Excel files, ensuring data integrity and consistency.\n",
    "- The transformations and categorizations applied are specific to the project's focus on evaluating consulting suppliers in Sweden, taking into account various factors like degrees, company movements, and rankings.\n",
    "- The final result is an aggregated, enriched dataset ready for further analysis or visualization, facilitating in-depth insights into supplier quality.\n"
   ]
  },
  {
   "cell_type": "markdown",
   "id": "da8fe40b",
   "metadata": {},
   "source": [
    "### - Modification of Location Data in 'Locations' and 'Location Movements' Sheets"
   ]
  },
  {
   "cell_type": "code",
   "execution_count": 25,
   "id": "40f3f87a",
   "metadata": {},
   "outputs": [],
   "source": [
    "#modify Location column in Locations and Location Movements sheets.\n",
    "\n",
    "final_result['Locations']['Location'] = final_result['Locations']['Location'].replace('Area', '', regex=True).replace('Greater', '', regex=True).replace('Metropolitan', '', regex=True).replace('City', '', regex=True).replace('County', '', regex=True)\n",
    "final_result['Location Movements']['Location'] = final_result['Location Movements']['Location'].replace('Area', '', regex=True).replace('Greater', '', regex=True).replace('Metropolitan', '', regex=True).replace('City', '', regex=True).replace('County', '', regex=True)"
   ]
  },
  {
   "cell_type": "markdown",
   "id": "96374fbe",
   "metadata": {},
   "source": [
    "#### Key Actions in Location Data Modification\n",
    "\n",
    "**Regex-Based Replacement**\n",
    "- The script employs regular expressions to remove specific words from the 'Location' column in both sheets.\n",
    "\n",
    "**Target Words for Removal**\n",
    "- Words like 'Area', 'Greater', 'Metropolitan', 'City', and 'County' are targeted for removal to streamline the location data.\n",
    "\n",
    "**Application to Multiple Sheets**\n",
    "- Similar transformations are applied to both the 'Locations' and 'Location Movements' sheets.\n"
   ]
  },
  {
   "cell_type": "markdown",
   "id": "e0636b44",
   "metadata": {},
   "source": [
    "## -Splitting and Reformatting 'Location' Data in DataFrames"
   ]
  },
  {
   "cell_type": "code",
   "execution_count": 26,
   "id": "7b444695",
   "metadata": {},
   "outputs": [],
   "source": [
    "# Split 'Location' column and handle different cases\n",
    "split_locations = final_result['Locations']['Location'].str.split(\",\", n=2, expand=True)\n",
    "\n",
    "# Assign the result to new columns\n",
    "final_result['Locations'][['City', 'County', 'Country']] = split_locations\n",
    "\n",
    "# Split 'Location' column and handle different cases\n",
    "split_locations = final_result['Location Movements']['Location'].str.split(\",\", n=2, expand=True)\n",
    "\n",
    "# Assign the result to new columns\n",
    "final_result['Location Movements'][['City', 'County', 'Country']] = split_locations\n",
    "\n",
    "# Fill the entire 'Country' column with 'Sweden'\n",
    "final_result['Locations']['Country'] = 'Sweden'"
   ]
  },
  {
   "cell_type": "markdown",
   "id": "6f6135fd",
   "metadata": {},
   "source": [
    "#### Detailed Breakdown of Location Data Processing\n",
    "\n",
    "**Splitting Location Data**\n",
    "- The 'Location' column in both 'Locations' and 'Location Movements' sheets is split into separate components based on commas, using the `str.split` method with `expand=True`.\n",
    "- The split is restricted to a maximum of two commas (three parts) to ensure consistency in the data format.\n",
    "\n",
    "**Creating New Columns**\n",
    "- The results of the split are then assigned to new columns: 'City', 'County', and 'Country'.\n",
    "- This reformatting allows for a more structured and detailed representation of location data.\n",
    "\n",
    "**Standardizing Country Data**\n",
    "- In the 'Locations' sheet, the 'Country' column is uniformly filled with 'Sweden', standardizing this aspect of the dataset.\n"
   ]
  },
  {
   "cell_type": "markdown",
   "id": "e96a66f2",
   "metadata": {},
   "source": [
    "## -Filling Missing Values in Selected Sheets and Updating the Final Dataset"
   ]
  },
  {
   "cell_type": "code",
   "execution_count": 27,
   "id": "d3a215ef",
   "metadata": {},
   "outputs": [],
   "source": [
    "sheets_to_process = ['Locations', 'Titles', 'Skills', 'Schools', 'Fields of Study']\n",
    "\n",
    "# Iterate through the selected sheets\n",
    "for sheet_name in sheets_to_process:\n",
    "    # Check if the sheet is present in the final_result dictionary\n",
    "    if sheet_name in final_result:\n",
    "        # Fill missing values in the '1 Year Growth' column with values from '1y growth' column\n",
    "        final_result[sheet_name]['1 Year Growth'] = final_result[sheet_name]['1 Year Growth'].fillna(final_result[sheet_name]['1y growth'])\n",
    "    else:\n",
    "        print(f\"{sheet_name} not found in final_result dictionary\")\n",
    "\n",
    "# Print the updated final_result dictionary\n",
    "#print(final_result)\n",
    "    "
   ]
  },
  {
   "cell_type": "markdown",
   "id": "debf3c03",
   "metadata": {},
   "source": [
    "### Process Description for Data Preprocessing\n",
    "\n",
    "#### Defining Sheets to Process\n",
    "- The script defines a list of sheet names (`sheets_to_process`) that are to be processed. This includes 'Locations', 'Titles', 'Skills', 'Schools', and 'Fields of Study'.\n",
    "\n",
    "#### Iterative Sheet Processing\n",
    "- The script iterates through each sheet name in the list.\n",
    "- It checks if the sheet exists in the `final_result` dictionary.\n",
    "\n",
    "#### Filling Missing Values\n",
    "- For sheets present in `final_result`, the script fills missing values in the '1 Year Growth' column with corresponding values from the '1y growth' column.\n",
    "- This step is crucial for maintaining data integrity and ensuring completeness in key growth-related metrics.\n",
    "\n",
    "#### Handling Absent Sheets\n",
    "- If any of the specified sheets are not found in `final_result`, the script prints a message indicating the absence of that sheet.\n",
    "\n",
    "#### Updating and Printing Final Result\n",
    "- The script then prints the updated `final_result` dictionary, showcasing the changes made.\n"
   ]
  },
  {
   "cell_type": "markdown",
   "id": "fa9930ca",
   "metadata": {},
   "source": [
    "# Exporting Processed Data to a Single Excel File"
   ]
  },
  {
   "cell_type": "code",
   "execution_count": 28,
   "id": "4b719741",
   "metadata": {},
   "outputs": [],
   "source": [
    "with pd.ExcelWriter(output_path+\"Combine.xlsx\") as writer:\n",
    "    for sheet_slected in initial_sheets_list:\n",
    "        final_result[sheet_slected].to_excel(writer, sheet_name=sheet_slected, index=False)"
   ]
  },
  {
   "cell_type": "markdown",
   "id": "ffeae921",
   "metadata": {},
   "source": [
    "### Key Steps in Exporting Processed Data to Excel\n",
    "\n",
    "#### Initialization of Excel Writer\n",
    "- The `pd.ExcelWriter` is used to create an Excel file at the specified `output_path`. This allows for writing multiple DataFrames to a single Excel file across different sheets.\n",
    "\n",
    "#### Iterating and Writing Data to Sheets\n",
    "- The script iterates through each sheet name stored in `initial_sheets_list`.\n",
    "- For each sheet, the corresponding DataFrame from `final_result` is written to the Excel file using the `to_excel` method.\n",
    "- The parameter `index=False` ensures that DataFrame indices are not included in the output file, leading to cleaner data presentation.\n"
   ]
  },
  {
   "cell_type": "markdown",
   "id": "a9ab3599",
   "metadata": {},
   "source": [
    "# Loading an Entire Excel File as Combine.xlsx"
   ]
  },
  {
   "cell_type": "code",
   "execution_count": 31,
   "id": "acd15d93",
   "metadata": {},
   "outputs": [],
   "source": [
    "# Load the entire Excel file\n",
    "excel_file_path = 'C:/Users/zkarimib@volvocars.com/OneDrive - Volvo Cars/Zohreh/Github/Datasets/All Consultant Companies/out/Combine.xlsx'"
   ]
  },
  {
   "cell_type": "code",
   "execution_count": 32,
   "id": "358eebad",
   "metadata": {},
   "outputs": [],
   "source": [
    "#use the ExcelFile class to get the list of sheet names\n",
    "\n",
    "# Load the entire Excel file\n",
    "excel_file = pd.ExcelFile(excel_file_path)"
   ]
  },
  {
   "cell_type": "markdown",
   "id": "7370dc2c",
   "metadata": {},
   "source": [
    "# Comprehensive Sheet-by-Sheet Exploration of 'Combine.xlsx'"
   ]
  },
  {
   "cell_type": "markdown",
   "id": "8875a257",
   "metadata": {},
   "source": [
    "## - Retrieving and Displaying Sheet Names"
   ]
  },
  {
   "cell_type": "markdown",
   "id": "2e4893e9",
   "metadata": {},
   "source": [
    "This code snippet is focused on extracting and printing the names of all sheets from an Excel workbook."
   ]
  },
  {
   "cell_type": "code",
   "execution_count": 33,
   "id": "7d2204d2",
   "metadata": {},
   "outputs": [
    {
     "name": "stdout",
     "output_type": "stream",
     "text": [
      "sheet_names: ['Overview', 'Locations', 'Company Movements', 'Location Movements', 'Industry Movements', 'Titles', 'Skills', 'Attrition by Functions', 'Attrition by Locations', 'Schools', 'Degrees', 'Fields of Study']\n"
     ]
    }
   ],
   "source": [
    "# Get a list of all sheet names\n",
    "sheet_names= excel_file.sheet_names\n",
    "\n",
    "# Print the sheet names\n",
    "print('sheet_names:', sheet_names)"
   ]
  },
  {
   "cell_type": "markdown",
   "id": "945e716a",
   "metadata": {},
   "source": [
    " ## - Displaying Sheet Names and Column Headers from Each Sheet"
   ]
  },
  {
   "cell_type": "code",
   "execution_count": 35,
   "id": "3a318ef8",
   "metadata": {},
   "outputs": [],
   "source": [
    "for sheet_name in sheet_names:\n",
    "    df = pd.read_excel(excel_file, sheet_name)\n",
    "    \n",
    "    # Print sheet name and columns\n",
    "    #print('sheet:', {sheet_name})\n",
    "    #print('Columns:', df.columns)"
   ]
  },
  {
   "cell_type": "markdown",
   "id": "df455056",
   "metadata": {},
   "source": [
    "## - Displaying the Shape of DataFrames for Each Sheet"
   ]
  },
  {
   "cell_type": "code",
   "execution_count": 36,
   "id": "5cfe0743",
   "metadata": {},
   "outputs": [
    {
     "name": "stdout",
     "output_type": "stream",
     "text": [
      "DataFrame shape: (3038, 9)\n",
      "------------------------------\n",
      "DataFrame shape for {'Overview'} (2028, 81)\n",
      "DataFrame shape for {'Locations'} (894, 13)\n",
      "DataFrame shape for {'Company Movements'} (2330, 10)\n",
      "DataFrame shape for {'Location Movements'} (646, 9)\n",
      "DataFrame shape for {'Industry Movements'} (1099, 6)\n",
      "DataFrame shape for {'Titles'} (2731, 10)\n",
      "DataFrame shape for {'Skills'} (5580, 10)\n",
      "DataFrame shape for {'Attrition by Functions'} (153, 5)\n",
      "DataFrame shape for {'Attrition by Locations'} (170, 5)\n",
      "DataFrame shape for {'Schools'} (3153, 9)\n",
      "DataFrame shape for {'Degrees'} (210, 5)\n",
      "DataFrame shape for {'Fields of Study'} (3038, 9)\n"
     ]
    }
   ],
   "source": [
    "print(f\"DataFrame shape: {df.shape}\")\n",
    "print('-'*30)\n",
    "\n",
    "for sheet_name in sheet_names:\n",
    "    df = pd.read_excel(excel_file, sheet_name)\n",
    "    print('DataFrame shape for', {sheet_name}, df.shape )"
   ]
  },
  {
   "cell_type": "markdown",
   "id": "30246631",
   "metadata": {},
   "source": [
    "**Purpose:**\n",
    "\n",
    "Displaying the shape of each DataFrame is an integral part of exploratory data analysis, as it reveals the size and scope of the data contained in each sheet.\n",
    "Understanding the number of rows and columns is essential for assessing data volume and structure, which guides subsequent data processing and analysis strategies."
   ]
  },
  {
   "cell_type": "markdown",
   "id": "5e5d0418",
   "metadata": {},
   "source": [
    "## - Previewing the First Few Rows of Each Sheet"
   ]
  },
  {
   "cell_type": "markdown",
   "id": "83c41ac9",
   "metadata": {},
   "source": [
    "Previewing the initial rows of each sheet is a fundamental aspect of exploratory data analysis. It helps in quickly gauging the data format, types of variables, and any apparent issues such as missing values or inconsistent entries."
   ]
  },
  {
   "cell_type": "code",
   "execution_count": 38,
   "id": "ebceb75b",
   "metadata": {},
   "outputs": [],
   "source": [
    "for sheet_name in sheet_names:\n",
    "    df = pd.read_excel(excel_file, sheet_name)\n",
    "    \n",
    "    \n",
    "    #print('sheet:', {sheet_name}, df.head() )\n",
    "    "
   ]
  },
  {
   "cell_type": "markdown",
   "id": "c64a193e",
   "metadata": {},
   "source": [
    "## - Displaying DataFrame Information for Each Sheet "
   ]
  },
  {
   "cell_type": "markdown",
   "id": "e2ff6d80",
   "metadata": {},
   "source": [
    "This code snippet focuses on printing detailed information about the DataFrame for each sheet in the Excel workbook, including the data types and the number of non-null entries for each column.\n",
    "\n"
   ]
  },
  {
   "cell_type": "code",
   "execution_count": 40,
   "id": "9fca5a88",
   "metadata": {},
   "outputs": [],
   "source": [
    "# Code to print DataFrame information for each sheet\n",
    "for sheet_name in sheet_names:\n",
    "    df = pd.read_excel(excel_file, sheet_name)\n",
    "    \n",
    "    #print('sheet:', {sheet_name})\n",
    "    #df.info()\n"
   ]
  },
  {
   "cell_type": "markdown",
   "id": "e7074138",
   "metadata": {},
   "source": [
    "# Generating Descriptive Statistics for Data in Each Sheet "
   ]
  },
  {
   "cell_type": "markdown",
   "id": "9d890837",
   "metadata": {},
   "source": [
    "## - Displaying Descriptive Statistics for Each Sheet "
   ]
  },
  {
   "cell_type": "markdown",
   "id": "d1d3df6d",
   "metadata": {},
   "source": [
    "The describe() method is then called on the DataFrame. This method provides a variety of descriptive statistics including count, mean, standard deviation, minimum, maximum, and quartile values for numerical columns."
   ]
  },
  {
   "cell_type": "code",
   "execution_count": 41,
   "id": "8eaf6bc0",
   "metadata": {},
   "outputs": [],
   "source": [
    "for sheet_name in sheet_names:\n",
    "    df = pd.read_excel(excel_file, sheet_name)\n",
    "    \n",
    "    \n",
    "    #print('sheet:', {sheet_name}, df.describe() )"
   ]
  },
  {
   "cell_type": "markdown",
   "id": "519c95e6",
   "metadata": {},
   "source": [
    "## - Detailed Descriptive Statistics for 'Company Movements' Sheet Grouped by Company"
   ]
  },
  {
   "cell_type": "markdown",
   "id": "eea2254c",
   "metadata": {},
   "source": [
    "This operation provides an in-depth look at the statistical properties of the data within the 'Company Movements' sheet, broken down by individual companies."
   ]
  },
  {
   "cell_type": "code",
   "execution_count": 42,
   "id": "78041940",
   "metadata": {},
   "outputs": [
    {
     "name": "stdout",
     "output_type": "stream",
     "text": [
      "Sheet: Company Movements\n",
      "Company: Company 1\n",
      "       Departures       Hires  Net change       Ratio  Consultant Company  \\\n",
      "count  129.000000  129.000000  129.000000  129.000000          129.000000   \n",
      "mean     0.930233    1.085271    0.155039    0.233850            0.131783   \n",
      "std      2.219185    0.910280    2.001756    1.805105            0.339573   \n",
      "min      0.000000    0.000000  -11.000000  -12.000000            0.000000   \n",
      "25%      0.000000    1.000000   -1.000000   -1.000000            0.000000   \n",
      "50%      0.000000    1.000000    1.000000    1.000000            0.000000   \n",
      "75%      1.000000    1.000000    1.000000    1.000000            0.000000   \n",
      "max     14.000000    6.000000    4.000000    3.000000            1.000000   \n",
      "\n",
      "       Automotive Company  Top 50 stora arbestgivare  \n",
      "count          129.000000                  13.000000  \n",
      "mean             0.178295                  25.076923  \n",
      "std              0.384253                  13.823058  \n",
      "min              0.000000                   6.000000  \n",
      "25%              0.000000                  13.000000  \n",
      "50%              0.000000                  26.000000  \n",
      "75%              0.000000                  33.000000  \n",
      "max              1.000000                  49.000000  \n",
      "------------------------------\n",
      "Sheet: Company Movements\n",
      "Company: Company 10\n",
      "       Departures      Hires  Net change      Ratio  Consultant Company  \\\n",
      "count   41.000000  41.000000   41.000000  41.000000           41.000000   \n",
      "mean     0.341463   0.878049    0.536585   0.512195            0.146341   \n",
      "std      0.616837   0.556557    1.027073   1.120758            0.357839   \n",
      "min      0.000000   0.000000   -2.000000  -2.000000            0.000000   \n",
      "25%      0.000000   1.000000    0.000000   1.000000            0.000000   \n",
      "50%      0.000000   1.000000    1.000000   1.000000            0.000000   \n",
      "75%      1.000000   1.000000    1.000000   1.000000            0.000000   \n",
      "max      2.000000   3.000000    3.000000   3.000000            1.000000   \n",
      "\n",
      "       Automotive Company  Top 50 stora arbestgivare  \n",
      "count           41.000000                   4.000000  \n",
      "mean             0.317073                  29.250000  \n",
      "std              0.471117                  18.264264  \n",
      "min              0.000000                   7.000000  \n",
      "25%              0.000000                  19.000000  \n",
      "50%              0.000000                  30.500000  \n",
      "75%              1.000000                  40.750000  \n",
      "max              1.000000                  49.000000  \n",
      "------------------------------\n",
      "Sheet: Company Movements\n",
      "Company: Company 11\n",
      "       Departures    Hires  Net change     Ratio  Consultant Company  \\\n",
      "count     4.00000  4.00000    4.000000  4.000000             4.00000   \n",
      "mean      0.50000  0.50000    0.000000  0.000000             0.50000   \n",
      "std       0.57735  0.57735    1.154701  1.154701             0.57735   \n",
      "min       0.00000  0.00000   -1.000000 -1.000000             0.00000   \n",
      "25%       0.00000  0.00000   -1.000000 -1.000000             0.00000   \n",
      "50%       0.50000  0.50000    0.000000  0.000000             0.50000   \n",
      "75%       1.00000  1.00000    1.000000  1.000000             1.00000   \n",
      "max       1.00000  1.00000    1.000000  1.000000             1.00000   \n",
      "\n",
      "       Automotive Company  Top 50 stora arbestgivare  \n",
      "count                 4.0                        0.0  \n",
      "mean                  0.0                        NaN  \n",
      "std                   0.0                        NaN  \n",
      "min                   0.0                        NaN  \n",
      "25%                   0.0                        NaN  \n",
      "50%                   0.0                        NaN  \n",
      "75%                   0.0                        NaN  \n",
      "max                   0.0                        NaN  \n",
      "------------------------------\n",
      "Sheet: Company Movements\n",
      "Company: Company 12\n",
      "       Departures  Hires  Net change  Ratio  Consultant Company  \\\n",
      "count     4.00000   4.00    4.000000    4.0                 4.0   \n",
      "mean      0.50000   0.75    0.250000    0.5                 0.0   \n",
      "std       0.57735   0.50    0.957427    1.0                 0.0   \n",
      "min       0.00000   0.00   -1.000000   -1.0                 0.0   \n",
      "25%       0.00000   0.75   -0.250000    0.5                 0.0   \n",
      "50%       0.50000   1.00    0.500000    1.0                 0.0   \n",
      "75%       1.00000   1.00    1.000000    1.0                 0.0   \n",
      "max       1.00000   1.00    1.000000    1.0                 0.0   \n",
      "\n",
      "       Automotive Company  Top 50 stora arbestgivare  \n",
      "count                 4.0                        1.0  \n",
      "mean                  1.0                       31.0  \n",
      "std                   0.0                        NaN  \n",
      "min                   1.0                       31.0  \n",
      "25%                   1.0                       31.0  \n",
      "50%                   1.0                       31.0  \n",
      "75%                   1.0                       31.0  \n",
      "max                   1.0                       31.0  \n",
      "------------------------------\n",
      "Sheet: Company Movements\n",
      "Company: Company 13\n",
      "       Departures       Hires  Net change       Ratio  Consultant Company  \\\n",
      "count  100.000000  100.000000  100.000000  100.000000          100.000000   \n",
      "mean     1.040000    0.790000   -0.250000   -0.188000            0.200000   \n",
      "std      2.141084    0.807728    2.396862    2.486134            0.402015   \n",
      "min      0.000000    0.000000  -15.000000  -16.000000            0.000000   \n",
      "25%      0.000000    0.000000   -1.000000   -1.000000            0.000000   \n",
      "50%      0.000000    1.000000    1.000000    1.000000            0.000000   \n",
      "75%      1.000000    1.000000    1.000000    1.000000            0.000000   \n",
      "max     16.000000    6.000000    3.000000    3.000000            1.000000   \n",
      "\n",
      "       Automotive Company  Top 50 stora arbestgivare  \n",
      "count          100.000000                  13.000000  \n",
      "mean             0.120000                  23.692308  \n",
      "std              0.326599                  13.123672  \n",
      "min              0.000000                   1.000000  \n",
      "25%              0.000000                  17.000000  \n",
      "50%              0.000000                  24.000000  \n",
      "75%              0.000000                  33.000000  \n",
      "max              1.000000                  44.000000  \n",
      "------------------------------\n",
      "Sheet: Company Movements\n",
      "Company: Company 14\n",
      "       Departures       Hires  Net change       Ratio  Consultant Company  \\\n",
      "count  100.000000  100.000000  100.000000  100.000000          100.000000   \n",
      "mean     0.570000    0.850000    0.280000    0.333333            0.190000   \n",
      "std      1.148165    0.625631    1.287704    1.304615            0.394277   \n",
      "min      0.000000    0.000000   -5.000000   -6.000000            0.000000   \n",
      "25%      0.000000    0.000000   -1.000000   -1.000000            0.000000   \n",
      "50%      0.000000    1.000000    1.000000    1.000000            0.000000   \n",
      "75%      1.000000    1.000000    1.000000    1.000000            0.000000   \n",
      "max      8.000000    3.000000    2.000000    2.000000            1.000000   \n",
      "\n",
      "       Automotive Company  Top 50 stora arbestgivare  \n",
      "count          100.000000                  11.000000  \n",
      "mean             0.250000                  23.727273  \n",
      "std              0.435194                  10.817494  \n",
      "min              0.000000                   2.000000  \n",
      "25%              0.000000                  17.500000  \n",
      "50%              0.000000                  26.000000  \n",
      "75%              0.250000                  31.000000  \n",
      "max              1.000000                  38.000000  \n",
      "------------------------------\n",
      "Sheet: Company Movements\n",
      "Company: Company 15\n",
      "       Departures       Hires  Net change       Ratio  Consultant Company  \\\n",
      "count  100.000000  100.000000  100.000000  100.000000          100.000000   \n",
      "mean     0.490000    1.320000    0.830000    0.936667            0.140000   \n",
      "std      2.455647    1.841607    1.303104    1.167936            0.348735   \n",
      "min      0.000000    0.000000   -6.000000   -3.000000            0.000000   \n",
      "25%      0.000000    1.000000    1.000000    1.000000            0.000000   \n",
      "50%      0.000000    1.000000    1.000000    1.000000            0.000000   \n",
      "75%      0.000000    1.000000    1.000000    1.000000            0.000000   \n",
      "max     24.000000   18.000000    6.000000    6.000000            1.000000   \n",
      "\n",
      "       Automotive Company  Top 50 stora arbestgivare  \n",
      "count          100.000000                  13.000000  \n",
      "mean             0.130000                  21.153846  \n",
      "std              0.337998                  14.217631  \n",
      "min              0.000000                   2.000000  \n",
      "25%              0.000000                   7.000000  \n",
      "50%              0.000000                  25.000000  \n",
      "75%              0.000000                  31.000000  \n",
      "max              1.000000                  44.000000  \n",
      "------------------------------\n",
      "Sheet: Company Movements\n",
      "Company: Company 16\n",
      "       Departures      Hires  Net change      Ratio  Consultant Company  \\\n",
      "count   10.000000  10.000000   10.000000  10.000000           10.000000   \n",
      "mean     0.700000   0.700000    0.000000   0.200000            0.400000   \n",
      "std      0.674949   0.674949    1.154701   1.316561            0.516398   \n",
      "min      0.000000   0.000000   -2.000000  -2.000000            0.000000   \n",
      "25%      0.000000   0.000000   -1.000000  -1.000000            0.000000   \n",
      "50%      1.000000   1.000000    0.500000   1.000000            0.000000   \n",
      "75%      1.000000   1.000000    1.000000   1.000000            1.000000   \n",
      "max      2.000000   2.000000    1.000000   2.000000            1.000000   \n",
      "\n",
      "       Automotive Company  Top 50 stora arbestgivare  \n",
      "count           10.000000                   2.000000  \n",
      "mean             0.400000                  30.500000  \n",
      "std              0.516398                  10.606602  \n",
      "min              0.000000                  23.000000  \n",
      "25%              0.000000                  26.750000  \n",
      "50%              0.000000                  30.500000  \n",
      "75%              1.000000                  34.250000  \n",
      "max              1.000000                  38.000000  \n",
      "------------------------------\n",
      "Sheet: Company Movements\n",
      "Company: Company 17\n",
      "       Departures       Hires  Net change       Ratio  Consultant Company  \\\n",
      "count  100.000000  100.000000  100.000000  100.000000          100.000000   \n",
      "mean     0.280000    1.460000    1.180000    1.265000            0.260000   \n",
      "std      0.725857    1.445439    1.659865    1.735626            0.440844   \n",
      "min      0.000000    0.000000   -4.000000   -4.000000            0.000000   \n",
      "25%      0.000000    1.000000    1.000000    1.000000            0.000000   \n",
      "50%      0.000000    1.000000    1.000000    1.000000            0.000000   \n",
      "75%      0.000000    1.000000    1.000000    1.000000            1.000000   \n",
      "max      4.000000    9.000000    8.000000    9.000000            1.000000   \n",
      "\n",
      "       Automotive Company  Top 50 stora arbestgivare  \n",
      "count          100.000000                  12.000000  \n",
      "mean             0.120000                  25.333333  \n",
      "std              0.326599                  16.244346  \n",
      "min              0.000000                   3.000000  \n",
      "25%              0.000000                  10.000000  \n",
      "50%              0.000000                  24.500000  \n",
      "75%              0.000000                  39.000000  \n",
      "max              1.000000                  48.000000  \n",
      "------------------------------\n",
      "Sheet: Company Movements\n",
      "Company: Company 18\n",
      "       Departures      Hires  Net change      Ratio  Consultant Company  \\\n",
      "count   61.000000  61.000000   61.000000  61.000000           61.000000   \n",
      "mean     0.590164   0.852459    0.262295   0.241803            0.114754   \n",
      "std      1.116200   0.980409    1.482134   1.474765            0.321370   \n",
      "min      0.000000   0.000000   -5.000000  -5.000000            0.000000   \n",
      "25%      0.000000   0.000000   -1.000000  -1.000000            0.000000   \n",
      "50%      0.000000   1.000000    1.000000   1.000000            0.000000   \n",
      "75%      1.000000   1.000000    1.000000   1.000000            0.000000   \n",
      "max      5.000000   7.000000    3.000000   2.000000            1.000000   \n",
      "\n",
      "       Automotive Company  Top 50 stora arbestgivare  \n",
      "count           61.000000                   10.00000  \n",
      "mean             0.229508                   22.30000  \n",
      "std              0.424006                   12.11106  \n",
      "min              0.000000                    5.00000  \n",
      "25%              0.000000                   12.25000  \n",
      "50%              0.000000                   24.50000  \n",
      "75%              0.000000                   32.50000  \n",
      "max              1.000000                   38.00000  \n",
      "------------------------------\n",
      "Sheet: Company Movements\n",
      "Company: Company 19\n",
      "       Departures      Hires  Net change      Ratio  Consultant Company  \\\n",
      "count   20.000000  20.000000   20.000000  20.000000           20.000000   \n",
      "mean     0.600000   0.500000   -0.100000  -0.100000            0.050000   \n",
      "std      0.753937   0.512989    1.209611   1.209611            0.223607   \n",
      "min      0.000000   0.000000   -3.000000  -3.000000            0.000000   \n",
      "25%      0.000000   0.000000   -1.000000  -1.000000            0.000000   \n",
      "50%      0.500000   0.500000    0.000000   0.000000            0.000000   \n",
      "75%      1.000000   1.000000    1.000000   1.000000            0.000000   \n",
      "max      3.000000   1.000000    1.000000   1.000000            1.000000   \n",
      "\n",
      "       Automotive Company  Top 50 stora arbestgivare  \n",
      "count           20.000000                   2.000000  \n",
      "mean             0.200000                  27.500000  \n",
      "std              0.410391                   6.363961  \n",
      "min              0.000000                  23.000000  \n",
      "25%              0.000000                  25.250000  \n",
      "50%              0.000000                  27.500000  \n",
      "75%              0.000000                  29.750000  \n",
      "max              1.000000                  32.000000  \n",
      "------------------------------\n",
      "Sheet: Company Movements\n",
      "Company: Company 2\n",
      "       Departures      Hires  Net change      Ratio  Consultant Company  \\\n",
      "count   34.000000  34.000000   34.000000  34.000000           34.000000   \n",
      "mean     0.970588   0.382353   -0.588235  -0.617647            0.147059   \n",
      "std      0.999554   0.603761    1.351041   1.435792            0.359491   \n",
      "min      0.000000   0.000000   -4.000000  -5.000000            0.000000   \n",
      "25%      0.000000   0.000000   -1.000000  -1.000000            0.000000   \n",
      "50%      1.000000   0.000000   -1.000000  -1.000000            0.000000   \n",
      "75%      1.000000   1.000000    1.000000   1.000000            0.000000   \n",
      "max      5.000000   2.000000    2.000000   2.000000            1.000000   \n",
      "\n",
      "       Automotive Company  Top 50 stora arbestgivare  \n",
      "count           34.000000                   5.000000  \n",
      "mean             0.323529                  19.400000  \n",
      "std              0.474858                  12.680694  \n",
      "min              0.000000                   5.000000  \n",
      "25%              0.000000                   7.000000  \n",
      "50%              0.000000                  23.000000  \n",
      "75%              1.000000                  31.000000  \n",
      "max              1.000000                  31.000000  \n",
      "------------------------------\n",
      "Sheet: Company Movements\n",
      "Company: Company 20\n",
      "       Departures      Hires  Net change      Ratio  Consultant Company  \\\n",
      "count   21.000000  21.000000   21.000000  21.000000           21.000000   \n",
      "mean     0.333333   0.714286    0.380952   0.380952            0.095238   \n",
      "std      0.577350   0.462910    1.023533   1.023533            0.300793   \n",
      "min      0.000000   0.000000   -2.000000  -2.000000            0.000000   \n",
      "25%      0.000000   0.000000   -1.000000  -1.000000            0.000000   \n",
      "50%      0.000000   1.000000    1.000000   1.000000            0.000000   \n",
      "75%      1.000000   1.000000    1.000000   1.000000            0.000000   \n",
      "max      2.000000   1.000000    1.000000   1.000000            1.000000   \n",
      "\n",
      "       Automotive Company  Top 50 stora arbestgivare  \n",
      "count           21.000000                   2.000000  \n",
      "mean             0.380952                  25.500000  \n",
      "std              0.497613                   3.535534  \n",
      "min              0.000000                  23.000000  \n",
      "25%              0.000000                  24.250000  \n",
      "50%              0.000000                  25.500000  \n",
      "75%              1.000000                  26.750000  \n",
      "max              1.000000                  28.000000  \n",
      "------------------------------\n",
      "Sheet: Company Movements\n",
      "Company: Company 21\n",
      "       Departures     Hires  Net change     Ratio  Consultant Company  \\\n",
      "count    8.000000  8.000000    8.000000  8.000000            8.000000   \n",
      "mean     0.875000  0.125000   -0.750000 -0.750000            0.125000   \n",
      "std      0.353553  0.353553    0.707107  0.707107            0.353553   \n",
      "min      0.000000  0.000000   -1.000000 -1.000000            0.000000   \n",
      "25%      1.000000  0.000000   -1.000000 -1.000000            0.000000   \n",
      "50%      1.000000  0.000000   -1.000000 -1.000000            0.000000   \n",
      "75%      1.000000  0.000000   -1.000000 -1.000000            0.000000   \n",
      "max      1.000000  1.000000    1.000000  1.000000            1.000000   \n",
      "\n",
      "       Automotive Company  Top 50 stora arbestgivare  \n",
      "count            8.000000                        0.0  \n",
      "mean             0.125000                        NaN  \n",
      "std              0.353553                        NaN  \n",
      "min              0.000000                        NaN  \n",
      "25%              0.000000                        NaN  \n",
      "50%              0.000000                        NaN  \n",
      "75%              0.000000                        NaN  \n",
      "max              1.000000                        NaN  \n",
      "------------------------------\n",
      "Sheet: Company Movements\n",
      "Company: Company 22\n",
      "       Departures      Hires  Net change      Ratio  Consultant Company  \\\n",
      "count   89.000000  89.000000   89.000000  89.000000           89.000000   \n",
      "mean     0.629213   0.741573    0.112360   0.185393            0.179775   \n",
      "std      0.610179   1.143441    1.510856   1.549160            0.386176   \n",
      "min      0.000000   0.000000   -2.000000  -2.000000            0.000000   \n",
      "25%      0.000000   0.000000   -1.000000  -1.000000            0.000000   \n",
      "50%      1.000000   1.000000    0.000000   1.000000            0.000000   \n",
      "75%      1.000000   1.000000    1.000000   1.000000            0.000000   \n",
      "max      3.000000   9.000000    9.000000   9.000000            1.000000   \n",
      "\n",
      "       Automotive Company  Top 50 stora arbestgivare  \n",
      "count           89.000000                  12.000000  \n",
      "mean             0.112360                  20.416667  \n",
      "std              0.317598                  14.841333  \n",
      "min              0.000000                   1.000000  \n",
      "25%              0.000000                   7.750000  \n",
      "50%              0.000000                  19.500000  \n",
      "75%              0.000000                  34.000000  \n",
      "max              1.000000                  42.000000  \n",
      "------------------------------\n",
      "Sheet: Company Movements\n",
      "Company: Company 23\n",
      "       Departures      Hires  Net change      Ratio  Consultant Company  \\\n",
      "count        25.0  25.000000   25.000000  25.000000           25.000000   \n",
      "mean          0.4   0.720000    0.320000   0.320000            0.160000   \n",
      "std           0.5   0.737111    1.180395   1.180395            0.374166   \n",
      "min           0.0   0.000000   -1.000000  -1.000000            0.000000   \n",
      "25%           0.0   0.000000   -1.000000  -1.000000            0.000000   \n",
      "50%           0.0   1.000000    1.000000   1.000000            0.000000   \n",
      "75%           1.0   1.000000    1.000000   1.000000            0.000000   \n",
      "max           1.0   3.000000    3.000000   3.000000            1.000000   \n",
      "\n",
      "       Automotive Company  Top 50 stora arbestgivare  \n",
      "count           25.000000                   5.000000  \n",
      "mean             0.120000                  23.200000  \n",
      "std              0.331662                  20.067386  \n",
      "min              0.000000                   1.000000  \n",
      "25%              0.000000                   6.000000  \n",
      "50%              0.000000                  26.000000  \n",
      "75%              0.000000                  33.000000  \n",
      "max              1.000000                  50.000000  \n",
      "------------------------------\n",
      "Sheet: Company Movements\n",
      "Company: Company 24\n",
      "       Departures      Hires  Net change      Ratio  Consultant Company  \\\n",
      "count   32.000000  32.000000   32.000000  32.000000           32.000000   \n",
      "mean     0.562500   0.656250    0.093750   0.125000            0.156250   \n",
      "std      0.715609   0.653002    1.279097   1.288911            0.368902   \n",
      "min      0.000000   0.000000   -3.000000  -3.000000            0.000000   \n",
      "25%      0.000000   0.000000   -1.000000  -1.000000            0.000000   \n",
      "50%      0.000000   1.000000    1.000000   1.000000            0.000000   \n",
      "75%      1.000000   1.000000    1.000000   1.000000            0.000000   \n",
      "max      3.000000   2.000000    2.000000   2.000000            1.000000   \n",
      "\n",
      "       Automotive Company  Top 50 stora arbestgivare  \n",
      "count           32.000000                   3.000000  \n",
      "mean             0.375000                  20.000000  \n",
      "std              0.491869                  11.789826  \n",
      "min              0.000000                   7.000000  \n",
      "25%              0.000000                  15.000000  \n",
      "50%              0.000000                  23.000000  \n",
      "75%              1.000000                  26.500000  \n",
      "max              1.000000                  30.000000  \n",
      "------------------------------\n",
      "Sheet: Company Movements\n",
      "Company: Company 25\n",
      "       Departures      Hires  Net change      Ratio  Consultant Company  \\\n",
      "count   24.000000  24.000000   24.000000  24.000000           24.000000   \n",
      "mean     0.416667   0.708333    0.291667   0.291667            0.083333   \n",
      "std      0.653863   0.550033    1.160179   1.160179            0.282330   \n",
      "min      0.000000   0.000000   -2.000000  -2.000000            0.000000   \n",
      "25%      0.000000   0.000000   -1.000000  -1.000000            0.000000   \n",
      "50%      0.000000   1.000000    1.000000   1.000000            0.000000   \n",
      "75%      1.000000   1.000000    1.000000   1.000000            0.000000   \n",
      "max      2.000000   2.000000    2.000000   2.000000            1.000000   \n",
      "\n",
      "       Automotive Company  Top 50 stora arbestgivare  \n",
      "count           24.000000                        0.0  \n",
      "mean             0.166667                        NaN  \n",
      "std              0.380693                        NaN  \n",
      "min              0.000000                        NaN  \n",
      "25%              0.000000                        NaN  \n",
      "50%              0.000000                        NaN  \n",
      "75%              0.000000                        NaN  \n",
      "max              1.000000                        NaN  \n",
      "------------------------------\n",
      "Sheet: Company Movements\n",
      "Company: Company 26\n",
      "       Departures     Hires  Net change      Ratio  Consultant Company  \\\n",
      "count   48.000000  48.00000   48.000000  48.000000           48.000000   \n",
      "mean     0.729167   0.43750   -0.291667  -0.291667            0.208333   \n",
      "std      0.676020   0.54211    1.129080   1.166160            0.410414   \n",
      "min      0.000000   0.00000   -3.000000  -3.000000            0.000000   \n",
      "25%      0.000000   0.00000   -1.000000  -1.000000            0.000000   \n",
      "50%      1.000000   0.00000   -1.000000  -1.000000            0.000000   \n",
      "75%      1.000000   1.00000    1.000000   1.000000            0.000000   \n",
      "max      3.000000   2.00000    2.000000   2.000000            1.000000   \n",
      "\n",
      "       Automotive Company  Top 50 stora arbestgivare  \n",
      "count           48.000000                   9.000000  \n",
      "mean             0.187500                  20.888889  \n",
      "std              0.394443                  11.762700  \n",
      "min              0.000000                   7.000000  \n",
      "25%              0.000000                  11.000000  \n",
      "50%              0.000000                  20.000000  \n",
      "75%              0.000000                  31.000000  \n",
      "max              1.000000                  38.000000  \n",
      "------------------------------\n",
      "Sheet: Company Movements\n",
      "Company: Company 27\n",
      "       Departures       Hires  Net change       Ratio  Consultant Company  \\\n",
      "count  100.000000  100.000000   100.00000  100.000000          100.000000   \n",
      "mean     0.470000    1.040000     0.57000    0.615000            0.180000   \n",
      "std      0.968754    0.680463     1.26535    1.333059            0.386123   \n",
      "min      0.000000    0.000000    -4.00000   -5.000000            0.000000   \n",
      "25%      0.000000    1.000000     1.00000    1.000000            0.000000   \n",
      "50%      0.000000    1.000000     1.00000    1.000000            0.000000   \n",
      "75%      0.000000    1.000000     1.00000    1.000000            0.000000   \n",
      "max      5.000000    4.000000     4.00000    4.000000            1.000000   \n",
      "\n",
      "       Automotive Company  Top 50 stora arbestgivare  \n",
      "count           100.00000                  11.000000  \n",
      "mean              0.15000                  34.090909  \n",
      "std               0.35887                  14.208832  \n",
      "min               0.00000                   1.000000  \n",
      "25%               0.00000                  28.500000  \n",
      "50%               0.00000                  38.000000  \n",
      "75%               0.00000                  43.500000  \n",
      "max               1.00000                  49.000000  \n",
      "------------------------------\n",
      "Sheet: Company Movements\n",
      "Company: Company 28\n",
      "       Departures       Hires  Net change       Ratio  Consultant Company  \\\n",
      "count  100.000000  100.000000  100.000000  100.000000          100.000000   \n",
      "mean     0.460000    1.210000    0.750000    0.875000            0.220000   \n",
      "std      1.086371    0.832363    1.416889    1.439848            0.416333   \n",
      "min      0.000000    0.000000   -6.000000   -6.000000            0.000000   \n",
      "25%      0.000000    1.000000    1.000000    1.000000            0.000000   \n",
      "50%      0.000000    1.000000    1.000000    1.000000            0.000000   \n",
      "75%      0.000000    1.000000    1.000000    1.000000            0.000000   \n",
      "max      6.000000    5.000000    5.000000    5.000000            1.000000   \n",
      "\n",
      "       Automotive Company  Top 50 stora arbestgivare  \n",
      "count          100.000000                  16.000000  \n",
      "mean             0.100000                  21.500000  \n",
      "std              0.301511                  15.148157  \n",
      "min              0.000000                   1.000000  \n",
      "25%              0.000000                   6.250000  \n",
      "50%              0.000000                  23.000000  \n",
      "75%              0.000000                  35.250000  \n",
      "max              1.000000                  42.000000  \n",
      "------------------------------\n",
      "Sheet: Company Movements\n",
      "Company: Company 29\n",
      "       Departures      Hires  Net change      Ratio  Consultant Company  \\\n",
      "count   14.000000  14.000000   14.000000  14.000000           14.000000   \n",
      "mean     0.785714   0.500000   -0.285714  -0.285714            0.214286   \n",
      "std      0.699293   0.518875    1.069045   1.204388            0.425815   \n",
      "min      0.000000   0.000000   -2.000000  -2.000000            0.000000   \n",
      "25%      0.000000   0.000000   -1.000000  -1.000000            0.000000   \n",
      "50%      1.000000   0.500000   -1.000000  -1.000000            0.000000   \n",
      "75%      1.000000   1.000000    1.000000   1.000000            0.000000   \n",
      "max      2.000000   1.000000    1.000000   1.000000            1.000000   \n",
      "\n",
      "       Automotive Company  Top 50 stora arbestgivare  \n",
      "count           14.000000                   3.000000  \n",
      "mean             0.428571                  25.333333  \n",
      "std              0.513553                  16.258331  \n",
      "min              0.000000                   7.000000  \n",
      "25%              0.000000                  19.000000  \n",
      "50%              0.000000                  31.000000  \n",
      "75%              1.000000                  34.500000  \n",
      "max              1.000000                  38.000000  \n",
      "------------------------------\n",
      "Sheet: Company Movements\n",
      "Company: Company 3\n",
      "       Departures  Hires  Net change  Ratio  Consultant Company  \\\n",
      "count         6.0    6.0         6.0    6.0            6.000000   \n",
      "mean          0.0    1.0         1.0    1.0            0.166667   \n",
      "std           0.0    0.0         0.0    0.0            0.408248   \n",
      "min           0.0    1.0         1.0    1.0            0.000000   \n",
      "25%           0.0    1.0         1.0    1.0            0.000000   \n",
      "50%           0.0    1.0         1.0    1.0            0.000000   \n",
      "75%           0.0    1.0         1.0    1.0            0.000000   \n",
      "max           0.0    1.0         1.0    1.0            1.000000   \n",
      "\n",
      "       Automotive Company  Top 50 stora arbestgivare  \n",
      "count            6.000000                   3.000000  \n",
      "mean             0.333333                  25.666667  \n",
      "std              0.516398                  11.239810  \n",
      "min              0.000000                  16.000000  \n",
      "25%              0.000000                  19.500000  \n",
      "50%              0.000000                  23.000000  \n",
      "75%              0.750000                  30.500000  \n",
      "max              1.000000                  38.000000  \n",
      "------------------------------\n",
      "Sheet: Company Movements\n",
      "Company: Company 30\n",
      "       Departures      Hires  Net change      Ratio  Consultant Company  \\\n",
      "count   11.000000  11.000000   11.000000  11.000000           11.000000   \n",
      "mean     0.545455   0.454545   -0.090909  -0.090909            0.181818   \n",
      "std      0.522233   0.522233    1.044466   1.044466            0.404520   \n",
      "min      0.000000   0.000000   -1.000000  -1.000000            0.000000   \n",
      "25%      0.000000   0.000000   -1.000000  -1.000000            0.000000   \n",
      "50%      1.000000   0.000000   -1.000000  -1.000000            0.000000   \n",
      "75%      1.000000   1.000000    1.000000   1.000000            0.000000   \n",
      "max      1.000000   1.000000    1.000000   1.000000            1.000000   \n",
      "\n",
      "       Automotive Company  Top 50 stora arbestgivare  \n",
      "count           11.000000                        0.0  \n",
      "mean             0.181818                        NaN  \n",
      "std              0.404520                        NaN  \n",
      "min              0.000000                        NaN  \n",
      "25%              0.000000                        NaN  \n",
      "50%              0.000000                        NaN  \n",
      "75%              0.000000                        NaN  \n",
      "max              1.000000                        NaN  \n",
      "------------------------------\n",
      "Sheet: Company Movements\n",
      "Company: Company 31\n",
      "       Departures      Hires  Net change      Ratio  Consultant Company  \\\n",
      "count   35.000000  35.000000   35.000000  35.000000           35.000000   \n",
      "mean     0.514286   0.800000    0.285714   0.314286            0.142857   \n",
      "std      0.919444   0.632456    1.426048   1.430167            0.355036   \n",
      "min      0.000000   0.000000   -4.000000  -4.000000            0.000000   \n",
      "25%      0.000000   0.000000   -1.000000  -1.000000            0.000000   \n",
      "50%      0.000000   1.000000    1.000000   1.000000            0.000000   \n",
      "75%      1.000000   1.000000    1.000000   1.000000            0.000000   \n",
      "max      4.000000   2.000000    2.000000   2.000000            1.000000   \n",
      "\n",
      "       Automotive Company  Top 50 stora arbestgivare  \n",
      "count           35.000000                   2.000000  \n",
      "mean             0.542857                  27.000000  \n",
      "std              0.505433                   5.656854  \n",
      "min              0.000000                  23.000000  \n",
      "25%              0.000000                  25.000000  \n",
      "50%              1.000000                  27.000000  \n",
      "75%              1.000000                  29.000000  \n",
      "max              1.000000                  31.000000  \n",
      "------------------------------\n",
      "Sheet: Company Movements\n",
      "Company: Company 32\n",
      "       Departures       Hires  Net change       Ratio  Consultant Company  \\\n",
      "count  100.000000  100.000000  100.000000  100.000000          100.000000   \n",
      "mean     0.610000    1.160000    0.550000    0.627500            0.180000   \n",
      "std      1.221814    0.971513    1.465943    1.592079            0.386123   \n",
      "min      0.000000    0.000000   -6.000000   -7.000000            0.000000   \n",
      "25%      0.000000    1.000000    0.750000    1.000000            0.000000   \n",
      "50%      0.000000    1.000000    1.000000    1.000000            0.000000   \n",
      "75%      1.000000    1.000000    1.000000    1.000000            0.000000   \n",
      "max      7.000000    9.000000    5.000000    3.000000            1.000000   \n",
      "\n",
      "       Automotive Company  Top 50 stora arbestgivare  \n",
      "count           100.00000                  12.000000  \n",
      "mean              0.15000                  25.166667  \n",
      "std               0.35887                  13.901166  \n",
      "min               0.00000                   1.000000  \n",
      "25%               0.00000                  13.250000  \n",
      "50%               0.00000                  28.500000  \n",
      "75%               0.00000                  36.500000  \n",
      "max               1.00000                  42.000000  \n",
      "------------------------------\n",
      "Sheet: Company Movements\n",
      "Company: Company 33\n",
      "       Departures      Hires  Net change      Ratio  Consultant Company  \\\n",
      "count   29.000000  29.000000   29.000000  29.000000           29.000000   \n",
      "mean     0.793103   0.482759   -0.310345  -0.310345            0.137931   \n",
      "std      0.861034   0.508548    1.256510   1.312126            0.350931   \n",
      "min      0.000000   0.000000   -3.000000  -3.000000            0.000000   \n",
      "25%      0.000000   0.000000   -1.000000  -1.000000            0.000000   \n",
      "50%      1.000000   0.000000   -1.000000  -1.000000            0.000000   \n",
      "75%      1.000000   1.000000    1.000000   1.000000            0.000000   \n",
      "max      3.000000   1.000000    1.000000   1.000000            1.000000   \n",
      "\n",
      "       Automotive Company  Top 50 stora arbestgivare  \n",
      "count           29.000000                   3.000000  \n",
      "mean             0.310345                  27.333333  \n",
      "std              0.470824                   5.131601  \n",
      "min              0.000000                  23.000000  \n",
      "25%              0.000000                  24.500000  \n",
      "50%              0.000000                  26.000000  \n",
      "75%              1.000000                  29.500000  \n",
      "max              1.000000                  33.000000  \n",
      "------------------------------\n",
      "Sheet: Company Movements\n",
      "Company: Company 34\n",
      "       Departures      Hires  Net change      Ratio  Consultant Company  \\\n",
      "count   44.000000  44.000000   44.000000  44.000000           44.000000   \n",
      "mean     0.636364   0.704545    0.068182   0.056818            0.181818   \n",
      "std      1.163213   0.631703    1.420739   1.540975            0.390154   \n",
      "min      0.000000   0.000000   -6.000000  -7.000000            0.000000   \n",
      "25%      0.000000   0.000000   -1.000000  -1.000000            0.000000   \n",
      "50%      0.000000   1.000000    1.000000   1.000000            0.000000   \n",
      "75%      1.000000   1.000000    1.000000   1.000000            0.000000   \n",
      "max      7.000000   2.000000    2.000000   2.000000            1.000000   \n",
      "\n",
      "       Automotive Company  Top 50 stora arbestgivare  \n",
      "count           44.000000                   5.000000  \n",
      "mean             0.227273                  24.800000  \n",
      "std              0.423915                  10.639549  \n",
      "min              0.000000                   7.000000  \n",
      "25%              0.000000                  23.000000  \n",
      "50%              0.000000                  30.000000  \n",
      "75%              0.000000                  31.000000  \n",
      "max              1.000000                  33.000000  \n",
      "------------------------------\n",
      "Sheet: Company Movements\n",
      "Company: Company 35\n",
      "       Departures       Hires  Net change       Ratio  Consultant Company  \\\n",
      "count  100.000000  100.000000  100.000000  100.000000          100.000000   \n",
      "mean     0.810000    0.740000   -0.070000   -0.045000            0.110000   \n",
      "std      2.638851    0.579446    2.871859    2.890331            0.314466   \n",
      "min      0.000000    0.000000  -25.000000  -25.000000            0.000000   \n",
      "25%      0.000000    0.000000   -1.000000   -1.000000            0.000000   \n",
      "50%      0.000000    1.000000    1.000000    1.000000            0.000000   \n",
      "75%      1.000000    1.000000    1.000000    1.000000            0.000000   \n",
      "max     25.000000    3.000000    3.000000    3.000000            1.000000   \n",
      "\n",
      "       Automotive Company  Top 50 stora arbestgivare  \n",
      "count          100.000000                   8.000000  \n",
      "mean             0.130000                  19.625000  \n",
      "std              0.337998                   9.723866  \n",
      "min              0.000000                   5.000000  \n",
      "25%              0.000000                  15.500000  \n",
      "50%              0.000000                  17.500000  \n",
      "75%              0.000000                  23.750000  \n",
      "max              1.000000                  38.000000  \n",
      "------------------------------\n",
      "Sheet: Company Movements\n",
      "Company: Company 36\n",
      "       Departures       Hires  Net change       Ratio  Consultant Company  \\\n",
      "count  100.000000  100.000000  100.000000  100.000000          100.000000   \n",
      "mean     0.840000    1.250000    0.410000    0.487000            0.180000   \n",
      "std      1.698008    0.925235    1.792774    1.750247            0.386123   \n",
      "min      0.000000    0.000000   -5.000000   -4.000000            0.000000   \n",
      "25%      0.000000    1.000000    0.000000    1.000000            0.000000   \n",
      "50%      0.000000    1.000000    1.000000    1.000000            0.000000   \n",
      "75%      1.000000    1.000000    1.000000    1.000000            0.000000   \n",
      "max      9.000000    5.000000    5.000000    5.000000            1.000000   \n",
      "\n",
      "       Automotive Company  Top 50 stora arbestgivare  \n",
      "count          100.000000                  15.000000  \n",
      "mean             0.140000                  21.466667  \n",
      "std              0.348735                  12.899982  \n",
      "min              0.000000                   1.000000  \n",
      "25%              0.000000                  12.000000  \n",
      "50%              0.000000                  21.000000  \n",
      "75%              0.000000                  30.500000  \n",
      "max              1.000000                  48.000000  \n",
      "------------------------------\n",
      "Sheet: Company Movements\n",
      "Company: Company 37\n",
      "       Departures      Hires  Net change      Ratio  Consultant Company  \\\n",
      "count   65.000000  65.000000   65.000000  65.000000           65.000000   \n",
      "mean     1.461538   0.061538   -1.400000  -1.400000            0.184615   \n",
      "std      1.263390   0.242186    1.355544   1.355544            0.391005   \n",
      "min      0.000000   0.000000   -7.000000  -7.000000            0.000000   \n",
      "25%      1.000000   0.000000   -2.000000  -2.000000            0.000000   \n",
      "50%      1.000000   0.000000   -1.000000  -1.000000            0.000000   \n",
      "75%      2.000000   0.000000   -1.000000  -1.000000            0.000000   \n",
      "max      7.000000   1.000000    1.000000   1.000000            1.000000   \n",
      "\n",
      "       Automotive Company  Top 50 stora arbestgivare  \n",
      "count           65.000000                  13.000000  \n",
      "mean             0.138462                  24.692308  \n",
      "std              0.348072                  11.002913  \n",
      "min              0.000000                   3.000000  \n",
      "25%              0.000000                  23.000000  \n",
      "50%              0.000000                  30.000000  \n",
      "75%              0.000000                  31.000000  \n",
      "max              1.000000                  38.000000  \n",
      "------------------------------\n",
      "Sheet: Company Movements\n",
      "Company: Company 38\n",
      "       Departures      Hires  Net change      Ratio  Consultant Company  \\\n",
      "count   16.000000  16.000000   16.000000  16.000000           16.000000   \n",
      "mean     0.437500   0.750000    0.312500   0.312500            0.125000   \n",
      "std      0.629153   0.447214    0.946485   1.078193            0.341565   \n",
      "min      0.000000   0.000000   -1.000000  -2.000000            0.000000   \n",
      "25%      0.000000   0.750000   -1.000000  -1.000000            0.000000   \n",
      "50%      0.000000   1.000000    1.000000   1.000000            0.000000   \n",
      "75%      1.000000   1.000000    1.000000   1.000000            0.000000   \n",
      "max      2.000000   1.000000    1.000000   1.000000            1.000000   \n",
      "\n",
      "       Automotive Company  Top 50 stora arbestgivare  \n",
      "count              16.000                   4.000000  \n",
      "mean                0.625                  25.250000  \n",
      "std                 0.500                  13.671747  \n",
      "min                 0.000                   7.000000  \n",
      "25%                 0.000                  19.000000  \n",
      "50%                 1.000                  28.000000  \n",
      "75%                 1.000                  34.250000  \n",
      "max                 1.000                  38.000000  \n",
      "------------------------------\n",
      "Sheet: Company Movements\n",
      "Company: Company 39\n",
      "       Departures      Hires  Net change      Ratio  Consultant Company  \\\n",
      "count   46.000000  46.000000   46.000000  46.000000           46.000000   \n",
      "mean     0.847826   0.391304   -0.456522  -0.413043            0.195652   \n",
      "std      0.665579   0.649042    1.205663   1.239643            0.401085   \n",
      "min      0.000000   0.000000   -3.000000  -3.000000            0.000000   \n",
      "25%      0.000000   0.000000   -1.000000  -1.000000            0.000000   \n",
      "50%      1.000000   0.000000   -1.000000  -1.000000            0.000000   \n",
      "75%      1.000000   1.000000    1.000000   1.000000            0.000000   \n",
      "max      3.000000   3.000000    3.000000   3.000000            1.000000   \n",
      "\n",
      "       Automotive Company  Top 50 stora arbestgivare  \n",
      "count           46.000000                   3.000000  \n",
      "mean             0.130435                  15.000000  \n",
      "std              0.340503                  13.856406  \n",
      "min              0.000000                   7.000000  \n",
      "25%              0.000000                   7.000000  \n",
      "50%              0.000000                   7.000000  \n",
      "75%              0.000000                  19.000000  \n",
      "max              1.000000                  31.000000  \n",
      "------------------------------\n",
      "Sheet: Company Movements\n",
      "Company: Company 4\n",
      "       Departures       Hires  Net change       Ratio  Consultant Company  \\\n",
      "count  209.000000  209.000000  209.000000  209.000000          209.000000   \n",
      "mean     0.693780    0.645933   -0.047847   -0.085646            0.133971   \n",
      "std      0.861578    1.013844    1.311051    1.294314            0.341439   \n",
      "min      0.000000    0.000000   -5.000000   -6.000000            0.000000   \n",
      "25%      0.000000    0.000000   -1.000000   -1.000000            0.000000   \n",
      "50%      1.000000    0.000000   -1.000000   -1.000000            0.000000   \n",
      "75%      1.000000    1.000000    1.000000    1.000000            0.000000   \n",
      "max      6.000000   10.000000    5.000000    5.000000            1.000000   \n",
      "\n",
      "       Automotive Company  Top 50 stora arbestgivare  \n",
      "count          209.000000                  16.000000  \n",
      "mean             0.167464                  20.625000  \n",
      "std              0.374286                  14.198005  \n",
      "min              0.000000                   1.000000  \n",
      "25%              0.000000                   9.250000  \n",
      "50%              0.000000                  21.000000  \n",
      "75%              0.000000                  31.500000  \n",
      "max              1.000000                  49.000000  \n",
      "------------------------------\n",
      "Sheet: Company Movements\n",
      "Company: Company 40\n",
      "       Departures       Hires  Net change       Ratio  Consultant Company  \\\n",
      "count  100.000000  100.000000  100.000000  100.000000          100.000000   \n",
      "mean     0.420000    1.100000    0.680000    0.715000            0.120000   \n",
      "std      0.912096    0.745356    1.301747    1.425339            0.326599   \n",
      "min      0.000000    0.000000   -4.000000   -5.000000            0.000000   \n",
      "25%      0.000000    1.000000    1.000000    1.000000            0.000000   \n",
      "50%      0.000000    1.000000    1.000000    1.000000            0.000000   \n",
      "75%      0.000000    1.000000    1.000000    1.000000            0.000000   \n",
      "max      5.000000    5.000000    5.000000    5.000000            1.000000   \n",
      "\n",
      "       Automotive Company  Top 50 stora arbestgivare  \n",
      "count          100.000000                  14.000000  \n",
      "mean             0.040000                  26.928571  \n",
      "std              0.196946                  16.212361  \n",
      "min              0.000000                   1.000000  \n",
      "25%              0.000000                  11.500000  \n",
      "50%              0.000000                  32.000000  \n",
      "75%              0.000000                  37.500000  \n",
      "max              1.000000                  49.000000  \n",
      "------------------------------\n",
      "Sheet: Company Movements\n",
      "Company: Company 41\n",
      "       Departures      Hires  Net change      Ratio  Consultant Company  \\\n",
      "count   44.000000  44.000000   44.000000  44.000000           44.000000   \n",
      "mean     0.477273   0.568182    0.090909   0.090909            0.045455   \n",
      "std      0.628347   0.501056    1.095831   1.095831            0.210707   \n",
      "min      0.000000   0.000000   -3.000000  -3.000000            0.000000   \n",
      "25%      0.000000   0.000000   -1.000000  -1.000000            0.000000   \n",
      "50%      0.000000   1.000000    1.000000   1.000000            0.000000   \n",
      "75%      1.000000   1.000000    1.000000   1.000000            0.000000   \n",
      "max      3.000000   1.000000    1.000000   1.000000            1.000000   \n",
      "\n",
      "       Automotive Company  Top 50 stora arbestgivare  \n",
      "count           44.000000                   5.000000  \n",
      "mean             0.295455                  30.600000  \n",
      "std              0.461522                  11.970798  \n",
      "min              0.000000                  16.000000  \n",
      "25%              0.000000                  26.000000  \n",
      "50%              0.000000                  31.000000  \n",
      "75%              1.000000                  31.000000  \n",
      "max              1.000000                  49.000000  \n",
      "------------------------------\n",
      "Sheet: Company Movements\n",
      "Company: Company 5\n",
      "       Departures      Hires  Net change      Ratio  Consultant Company  \\\n",
      "count   51.000000  51.000000   51.000000  51.000000           51.000000   \n",
      "mean     0.137255   0.980392    0.843137   0.862745            0.117647   \n",
      "std      0.347540   0.509517    0.784157   0.775103            0.325396   \n",
      "min      0.000000   0.000000   -1.000000  -1.000000            0.000000   \n",
      "25%      0.000000   1.000000    1.000000   1.000000            0.000000   \n",
      "50%      0.000000   1.000000    1.000000   1.000000            0.000000   \n",
      "75%      0.000000   1.000000    1.000000   1.000000            0.000000   \n",
      "max      1.000000   3.000000    3.000000   3.000000            1.000000   \n",
      "\n",
      "       Automotive Company  Top 50 stora arbestgivare  \n",
      "count           51.000000                   7.000000  \n",
      "mean             0.176471                  23.142857  \n",
      "std              0.385013                  14.016996  \n",
      "min              0.000000                   2.000000  \n",
      "25%              0.000000                  14.000000  \n",
      "50%              0.000000                  30.000000  \n",
      "75%              0.000000                  33.500000  \n",
      "max              1.000000                  35.000000  \n",
      "------------------------------\n",
      "Sheet: Company Movements\n",
      "Company: Company 6\n"
     ]
    },
    {
     "name": "stdout",
     "output_type": "stream",
     "text": [
      "       Departures      Hires  Net change      Ratio  Consultant Company  \\\n",
      "count   23.000000  23.000000   23.000000  23.000000           23.000000   \n",
      "mean     0.434783   0.913043    0.478261   0.358696            0.086957   \n",
      "std      0.589768   0.848155    1.122884   1.068203            0.288104   \n",
      "min      0.000000   0.000000   -1.000000  -2.000000            0.000000   \n",
      "25%      0.000000   0.500000   -1.000000  -1.000000            0.000000   \n",
      "50%      0.000000   1.000000    1.000000   1.000000            0.000000   \n",
      "75%      1.000000   1.000000    1.000000   1.000000            0.000000   \n",
      "max      2.000000   4.000000    3.000000   2.000000            1.000000   \n",
      "\n",
      "       Automotive Company  Top 50 stora arbestgivare  \n",
      "count           23.000000                   2.000000  \n",
      "mean             0.217391                  28.000000  \n",
      "std              0.421741                   7.071068  \n",
      "min              0.000000                  23.000000  \n",
      "25%              0.000000                  25.500000  \n",
      "50%              0.000000                  28.000000  \n",
      "75%              0.000000                  30.500000  \n",
      "max              1.000000                  33.000000  \n",
      "------------------------------\n",
      "Sheet: Company Movements\n",
      "Company: Company 7\n",
      "       Departures      Hires  Net change      Ratio  Consultant Company  \\\n",
      "count   66.000000  66.000000   66.000000  66.000000           66.000000   \n",
      "mean     0.696970   0.575758   -0.121212  -0.007576            0.181818   \n",
      "std      0.700982   0.609176    1.130216   1.191290            0.388650   \n",
      "min      0.000000   0.000000   -3.000000  -3.000000            0.000000   \n",
      "25%      0.000000   0.000000   -1.000000  -1.000000            0.000000   \n",
      "50%      1.000000   1.000000    0.000000   1.000000            0.000000   \n",
      "75%      1.000000   1.000000    1.000000   1.000000            0.000000   \n",
      "max      3.000000   3.000000    2.000000   2.000000            1.000000   \n",
      "\n",
      "       Automotive Company  Top 50 stora arbestgivare  \n",
      "count           66.000000                  13.000000  \n",
      "mean             0.151515                  18.538462  \n",
      "std              0.361298                  12.032009  \n",
      "min              0.000000                   1.000000  \n",
      "25%              0.000000                   7.000000  \n",
      "50%              0.000000                  24.000000  \n",
      "75%              0.000000                  29.000000  \n",
      "max              1.000000                  33.000000  \n",
      "------------------------------\n",
      "Sheet: Company Movements\n",
      "Company: Company 8\n",
      "       Departures       Hires  Net change       Ratio  Consultant Company  \\\n",
      "count  100.000000  100.000000  100.000000  100.000000          100.000000   \n",
      "mean     2.210000    2.250000    0.040000    0.213066            0.240000   \n",
      "std      2.731393    2.875796    3.174774    2.879453            0.429235   \n",
      "min      0.000000    0.000000  -11.000000   -7.000000            0.000000   \n",
      "25%      0.000000    1.000000   -2.000000   -2.000000            0.000000   \n",
      "50%      1.500000    2.000000    0.000000    1.000000            0.000000   \n",
      "75%      3.000000    2.000000    2.000000    2.000000            0.000000   \n",
      "max     15.000000   19.000000   11.000000   11.000000            1.000000   \n",
      "\n",
      "       Automotive Company  Top 50 stora arbestgivare  \n",
      "count          100.000000                  19.000000  \n",
      "mean             0.160000                  26.157895  \n",
      "std              0.368453                  15.738358  \n",
      "min              0.000000                   1.000000  \n",
      "25%              0.000000                  15.000000  \n",
      "50%              0.000000                  30.000000  \n",
      "75%              0.000000                  39.500000  \n",
      "max              1.000000                  49.000000  \n",
      "------------------------------\n",
      "Sheet: Company Movements\n",
      "Company: Company 9\n",
      "       Departures      Hires  Net change      Ratio  Consultant Company  \\\n",
      "count   21.000000  21.000000   21.000000  21.000000           21.000000   \n",
      "mean     0.190476   1.000000    0.809524   0.857143            0.285714   \n",
      "std      0.402374   0.774597    1.030488   1.014185            0.462910   \n",
      "min      0.000000   0.000000   -1.000000  -1.000000            0.000000   \n",
      "25%      0.000000   1.000000    1.000000   1.000000            0.000000   \n",
      "50%      0.000000   1.000000    1.000000   1.000000            0.000000   \n",
      "75%      0.000000   1.000000    1.000000   1.000000            1.000000   \n",
      "max      1.000000   4.000000    4.000000   4.000000            1.000000   \n",
      "\n",
      "       Automotive Company  Top 50 stora arbestgivare  \n",
      "count           21.000000                   2.000000  \n",
      "mean             0.095238                  11.000000  \n",
      "std              0.300793                   5.656854  \n",
      "min              0.000000                   7.000000  \n",
      "25%              0.000000                   9.000000  \n",
      "50%              0.000000                  11.000000  \n",
      "75%              0.000000                  13.000000  \n",
      "max              1.000000                  15.000000  \n",
      "------------------------------\n"
     ]
    }
   ],
   "source": [
    "#describe for each sheets:\n",
    "\n",
    "for sheet_name in sheet_names:\n",
    "    if sheet_name == 'Company Movements':\n",
    "        df = pd.read_excel(excel_file, sheet_name)\n",
    "        \n",
    "        # Group by 'Company_Name' and print describe for each group\n",
    "        grouped_by_company = df.groupby('Company_Name')\n",
    "        \n",
    "        for company_name, group_df in grouped_by_company:\n",
    "            print('Sheet:', sheet_name)\n",
    "            print('Company:', company_name)\n",
    "            print(group_df.describe())\n",
    "            print('-' * 30)  # Separator for better readability"
   ]
  },
  {
   "cell_type": "markdown",
   "id": "264d7612",
   "metadata": {},
   "source": [
    "# Comprehensive Data Validation"
   ]
  },
  {
   "cell_type": "markdown",
   "id": "5f819b2c",
   "metadata": {},
   "source": [
    "This accurately captures the essence of the operations being performed – systematic validation of data integrity and quality across multiple dimensions (missing values, duplicates, and negative entries) in each sheet of the Excel workbook. It indicates a thorough approach to ensuring the data's reliability and suitability for further analysis."
   ]
  },
  {
   "cell_type": "markdown",
   "id": "0e78e970",
   "metadata": {},
   "source": [
    "## 1.Identifying Missing Values in Each Sheet "
   ]
  },
  {
   "cell_type": "code",
   "execution_count": 44,
   "id": "6a86d6e1",
   "metadata": {},
   "outputs": [],
   "source": [
    "# Code to identify and print missing values in each sheet\n",
    "\n",
    "for sheet_name in sheet_names:\n",
    "    df = pd.read_excel(excel_file, sheet_name)\n",
    "    \n",
    "    #print('sheet:', {sheet_name}, df.isnull().sum() )"
   ]
  },
  {
   "cell_type": "markdown",
   "id": "60d7b984",
   "metadata": {},
   "source": [
    " ## 2.Identifying Duplicate Rows in Each Sheet"
   ]
  },
  {
   "cell_type": "code",
   "execution_count": 45,
   "id": "03172cb7",
   "metadata": {},
   "outputs": [],
   "source": [
    "# Code to find and print duplicate rows in each sheet\n",
    "\n",
    "for sheet_name in sheet_names:\n",
    "    df = pd.read_excel(excel_file, sheet_name)\n",
    "    duplicates = df[df.duplicated()]\n",
    "    #print('sheet:', {sheet_name}, duplicates)"
   ]
  },
  {
   "cell_type": "markdown",
   "id": "f084e7f7",
   "metadata": {},
   "source": [
    "### Analysis of Duplicate Rows Across Sheets in the Excel Workbook\n",
    "\n",
    "The output shows the duplicate rows for the 'Overview' sheet, but for the other sheets, the DataFrame is empty, indicating no duplicates were found in those sheets."
   ]
  },
  {
   "cell_type": "markdown",
   "id": "4c04803a",
   "metadata": {},
   "source": [
    " ## 3.Identifying Columns with Negative Values in Each Sheet"
   ]
  },
  {
   "cell_type": "code",
   "execution_count": 48,
   "id": "6b8098d2",
   "metadata": {},
   "outputs": [
    {
     "name": "stdout",
     "output_type": "stream",
     "text": [
      "Sheet: Overview\n",
      "Columns with negative values:\n",
      "Sheet: Locations\n",
      "Columns with negative values:\n",
      "1 Year Growth\n",
      "1y growth\n",
      "Sheet: Company Movements\n",
      "Columns with negative values:\n",
      "Net change\n",
      "Ratio\n",
      "Sheet: Location Movements\n",
      "Columns with negative values:\n",
      "Net change\n",
      "Ratio\n",
      "Sheet: Industry Movements\n",
      "Columns with negative values:\n",
      "Net change\n",
      "Ratio\n",
      "Sheet: Titles\n",
      "Columns with negative values:\n",
      "1 Year Growth\n",
      "1y growth\n",
      "Sheet: Skills\n",
      "Columns with negative values:\n",
      "1 Year Growth\n",
      "1y growth\n",
      "Sheet: Attrition by Functions\n",
      "Columns with negative values:\n",
      "Sheet: Attrition by Locations\n",
      "Columns with negative values:\n",
      "Sheet: Schools\n",
      "Columns with negative values:\n",
      "1 Year Growth\n",
      "1y growth\n",
      "Sheet: Degrees\n",
      "Columns with negative values:\n",
      "Sheet: Fields of Study\n",
      "Columns with negative values:\n",
      "1 Year Growth\n",
      "1y growth\n"
     ]
    }
   ],
   "source": [
    "#Check for negative values\n",
    "\n",
    "for sheet_name in sheet_names:\n",
    "    df = pd.read_excel(excel_file, sheet_name)\n",
    "    # Select numeric columns only (excluding non-numeric, like strings)\n",
    "    numeric_columns = df.select_dtypes(include=['number'])\n",
    "    \n",
    "    # Check for negative values in numeric columns\n",
    "    columns_with_negative_values = numeric_columns.columns[numeric_columns.lt(0).any()].tolist()\n",
    "    \n",
    "    # Display the columns with negative values\n",
    "    print(f\"Sheet: {sheet_name}\")\n",
    "    print(\"Columns with negative values:\")\n",
    "    for column in columns_with_negative_values:\n",
    "        print(column)"
   ]
  },
  {
   "cell_type": "markdown",
   "id": "a79f4924",
   "metadata": {},
   "source": [
    "### Key Steps in Identifying Negative Values in Numeric Columns\n",
    "\n",
    "#### Iterating Through Sheets\n",
    "- The script loops through each sheet name in the `sheet_names` list.\n",
    "\n",
    "#### Processing Numeric Data\n",
    "- For each sheet, the process involves:\n",
    "  - Reading the data into a DataFrame (`df`).\n",
    "  - Selecting only the numeric columns from the DataFrame.\n",
    "\n",
    "#### Identifying Negative Values\n",
    "- The script checks each numeric column for the presence of negative values.\n",
    "- It compiles a list of columns where negative values are found.\n",
    "\n",
    "#### Printing Results\n",
    "- For each sheet, the script prints the sheet name and a list of columns containing negative values."
   ]
  },
  {
   "cell_type": "code",
   "execution_count": 50,
   "id": "bdfa183c",
   "metadata": {},
   "outputs": [
    {
     "name": "stdout",
     "output_type": "stream",
     "text": [
      "Number of consulting companies: 42\n",
      "------------------------------\n",
      "The name of consulting companies: \n",
      "\n",
      "['Company 1' 'Company 10' 'Company 11' 'Company 12' 'Company 13'\n",
      " 'Company 14' 'Company 15' 'Company 16' 'Company 17' 'Company 18'\n",
      " 'Company 19' 'Company 2' 'Company 20' 'Company 21' 'Company 22'\n",
      " 'Company 23' 'Company 24' 'Company 25' 'Company 26' 'Company 27'\n",
      " 'Company 28' 'Company 29' 'Company 3' 'Company 30' 'Company 31'\n",
      " 'Company 32' 'Company 33' 'Company 34' 'Company 35' 'Company 36'\n",
      " 'Company 37' 'Company 38' 'Company 39' 'Company 4' 'Company 40'\n",
      " 'Company 41' 'Company 42' 'Company 5' 'Company 6' 'Company 7' 'Company 8'\n",
      " 'Company 9']\n"
     ]
    }
   ],
   "source": [
    "#Unique values for'Company_Name' column in the 'Companye movements' sheet\n",
    "\n",
    "company_name=df['Company_Name'].unique()\n",
    "\n",
    "#Number of unique values\n",
    "unique_count = len(company_name)\n",
    "\n",
    "print(f\"Number of consulting companies: {unique_count}\")\n",
    "print('-'*30)\n",
    "print('The name of consulting companies:','\\n')\n",
    "print(company_name)\n"
   ]
  },
  {
   "cell_type": "markdown",
   "id": "2f217089",
   "metadata": {},
   "source": [
    "# Exploratory Data Analysis on 'Company Movements' Sheet"
   ]
  },
  {
   "cell_type": "markdown",
   "id": "d13a7845",
   "metadata": {},
   "source": [
    " ### Correlation Analysis in 'Company Movements' Sheet Using Pairplot Visualization"
   ]
  },
  {
   "cell_type": "markdown",
   "id": "10c3bbd3",
   "metadata": {},
   "source": [
    "This code is focusing on analyzing correlations among various columns in the 'Company Movements' sheet of the Excel workbook. It utilizes Seaborn's pairplot function to visually represent these relationships.\n"
   ]
  },
  {
   "cell_type": "code",
   "execution_count": 51,
   "id": "4529d054",
   "metadata": {},
   "outputs": [
    {
     "name": "stderr",
     "output_type": "stream",
     "text": [
      "C:\\Zohreh\\anaconda3\\Lib\\site-packages\\seaborn\\_oldcore.py:1498: FutureWarning: is_categorical_dtype is deprecated and will be removed in a future version. Use isinstance(dtype, CategoricalDtype) instead\n",
      "  if pd.api.types.is_categorical_dtype(vector):\n",
      "C:\\Zohreh\\anaconda3\\Lib\\site-packages\\seaborn\\_oldcore.py:1498: FutureWarning: is_categorical_dtype is deprecated and will be removed in a future version. Use isinstance(dtype, CategoricalDtype) instead\n",
      "  if pd.api.types.is_categorical_dtype(vector):\n",
      "C:\\Zohreh\\anaconda3\\Lib\\site-packages\\seaborn\\_oldcore.py:1498: FutureWarning: is_categorical_dtype is deprecated and will be removed in a future version. Use isinstance(dtype, CategoricalDtype) instead\n",
      "  if pd.api.types.is_categorical_dtype(vector):\n",
      "C:\\Zohreh\\anaconda3\\Lib\\site-packages\\seaborn\\_oldcore.py:1498: FutureWarning: is_categorical_dtype is deprecated and will be removed in a future version. Use isinstance(dtype, CategoricalDtype) instead\n",
      "  if pd.api.types.is_categorical_dtype(vector):\n",
      "C:\\Zohreh\\anaconda3\\Lib\\site-packages\\seaborn\\_oldcore.py:1498: FutureWarning: is_categorical_dtype is deprecated and will be removed in a future version. Use isinstance(dtype, CategoricalDtype) instead\n",
      "  if pd.api.types.is_categorical_dtype(vector):\n",
      "C:\\Zohreh\\anaconda3\\Lib\\site-packages\\seaborn\\_oldcore.py:1119: FutureWarning: use_inf_as_na option is deprecated and will be removed in a future version. Convert inf values to NaN before operating instead.\n",
      "  with pd.option_context('mode.use_inf_as_na', True):\n",
      "C:\\Zohreh\\anaconda3\\Lib\\site-packages\\seaborn\\_oldcore.py:1498: FutureWarning: is_categorical_dtype is deprecated and will be removed in a future version. Use isinstance(dtype, CategoricalDtype) instead\n",
      "  if pd.api.types.is_categorical_dtype(vector):\n",
      "C:\\Zohreh\\anaconda3\\Lib\\site-packages\\seaborn\\_oldcore.py:1119: FutureWarning: use_inf_as_na option is deprecated and will be removed in a future version. Convert inf values to NaN before operating instead.\n",
      "  with pd.option_context('mode.use_inf_as_na', True):\n",
      "C:\\Zohreh\\anaconda3\\Lib\\site-packages\\seaborn\\_oldcore.py:1498: FutureWarning: is_categorical_dtype is deprecated and will be removed in a future version. Use isinstance(dtype, CategoricalDtype) instead\n",
      "  if pd.api.types.is_categorical_dtype(vector):\n",
      "C:\\Zohreh\\anaconda3\\Lib\\site-packages\\seaborn\\_oldcore.py:1119: FutureWarning: use_inf_as_na option is deprecated and will be removed in a future version. Convert inf values to NaN before operating instead.\n",
      "  with pd.option_context('mode.use_inf_as_na', True):\n",
      "C:\\Zohreh\\anaconda3\\Lib\\site-packages\\seaborn\\_oldcore.py:1498: FutureWarning: is_categorical_dtype is deprecated and will be removed in a future version. Use isinstance(dtype, CategoricalDtype) instead\n",
      "  if pd.api.types.is_categorical_dtype(vector):\n",
      "C:\\Zohreh\\anaconda3\\Lib\\site-packages\\seaborn\\_oldcore.py:1119: FutureWarning: use_inf_as_na option is deprecated and will be removed in a future version. Convert inf values to NaN before operating instead.\n",
      "  with pd.option_context('mode.use_inf_as_na', True):\n",
      "C:\\Zohreh\\anaconda3\\Lib\\site-packages\\seaborn\\_oldcore.py:1498: FutureWarning: is_categorical_dtype is deprecated and will be removed in a future version. Use isinstance(dtype, CategoricalDtype) instead\n",
      "  if pd.api.types.is_categorical_dtype(vector):\n",
      "C:\\Zohreh\\anaconda3\\Lib\\site-packages\\seaborn\\_oldcore.py:1498: FutureWarning: is_categorical_dtype is deprecated and will be removed in a future version. Use isinstance(dtype, CategoricalDtype) instead\n",
      "  if pd.api.types.is_categorical_dtype(vector):\n",
      "C:\\Zohreh\\anaconda3\\Lib\\site-packages\\seaborn\\_oldcore.py:1498: FutureWarning: is_categorical_dtype is deprecated and will be removed in a future version. Use isinstance(dtype, CategoricalDtype) instead\n",
      "  if pd.api.types.is_categorical_dtype(vector):\n",
      "C:\\Zohreh\\anaconda3\\Lib\\site-packages\\seaborn\\_oldcore.py:1498: FutureWarning: is_categorical_dtype is deprecated and will be removed in a future version. Use isinstance(dtype, CategoricalDtype) instead\n",
      "  if pd.api.types.is_categorical_dtype(vector):\n",
      "C:\\Zohreh\\anaconda3\\Lib\\site-packages\\seaborn\\_oldcore.py:1498: FutureWarning: is_categorical_dtype is deprecated and will be removed in a future version. Use isinstance(dtype, CategoricalDtype) instead\n",
      "  if pd.api.types.is_categorical_dtype(vector):\n",
      "C:\\Zohreh\\anaconda3\\Lib\\site-packages\\seaborn\\_oldcore.py:1498: FutureWarning: is_categorical_dtype is deprecated and will be removed in a future version. Use isinstance(dtype, CategoricalDtype) instead\n",
      "  if pd.api.types.is_categorical_dtype(vector):\n",
      "C:\\Zohreh\\anaconda3\\Lib\\site-packages\\seaborn\\_oldcore.py:1498: FutureWarning: is_categorical_dtype is deprecated and will be removed in a future version. Use isinstance(dtype, CategoricalDtype) instead\n",
      "  if pd.api.types.is_categorical_dtype(vector):\n",
      "C:\\Zohreh\\anaconda3\\Lib\\site-packages\\seaborn\\_oldcore.py:1498: FutureWarning: is_categorical_dtype is deprecated and will be removed in a future version. Use isinstance(dtype, CategoricalDtype) instead\n",
      "  if pd.api.types.is_categorical_dtype(vector):\n",
      "C:\\Zohreh\\anaconda3\\Lib\\site-packages\\seaborn\\_oldcore.py:1498: FutureWarning: is_categorical_dtype is deprecated and will be removed in a future version. Use isinstance(dtype, CategoricalDtype) instead\n",
      "  if pd.api.types.is_categorical_dtype(vector):\n",
      "C:\\Zohreh\\anaconda3\\Lib\\site-packages\\seaborn\\_oldcore.py:1498: FutureWarning: is_categorical_dtype is deprecated and will be removed in a future version. Use isinstance(dtype, CategoricalDtype) instead\n",
      "  if pd.api.types.is_categorical_dtype(vector):\n",
      "C:\\Zohreh\\anaconda3\\Lib\\site-packages\\seaborn\\_oldcore.py:1498: FutureWarning: is_categorical_dtype is deprecated and will be removed in a future version. Use isinstance(dtype, CategoricalDtype) instead\n",
      "  if pd.api.types.is_categorical_dtype(vector):\n",
      "C:\\Zohreh\\anaconda3\\Lib\\site-packages\\seaborn\\_oldcore.py:1498: FutureWarning: is_categorical_dtype is deprecated and will be removed in a future version. Use isinstance(dtype, CategoricalDtype) instead\n",
      "  if pd.api.types.is_categorical_dtype(vector):\n",
      "C:\\Zohreh\\anaconda3\\Lib\\site-packages\\seaborn\\axisgrid.py:118: UserWarning: The figure layout has changed to tight\n",
      "  self._figure.tight_layout(*args, **kwargs)\n"
     ]
    },
    {
     "data": {
      "image/png": "[encoded data removed]",
      "text/plain": [
       "<Figure size 1000x1000 with 14 Axes>"
      ]
     },
     "metadata": {},
     "output_type": "display_data"
    }
   ],
   "source": [
    "# Diagnostic Analytics: Correlation Analysis\n",
    "sheet_name = 'Company Movements'\n",
    "df = pd.read_excel(excel_file, sheet_name)\n",
    "\n",
    "# List of columns to create histogram plots for Company movements sheet\n",
    "company_movements_columns = ['Departures', 'Hires', 'Ratio', 'Net change']\n",
    "\n",
    "# Create a pairplot\n",
    "sns.pairplot(data=df[company_movements_columns], corner = True )\n",
    "plt.show()\n",
    " "
   ]
  },
  {
   "cell_type": "markdown",
   "id": "15d73895",
   "metadata": {},
   "source": [
    "#### Diagonal Histograms: \n",
    "These show the distribution of values for each individual variable. For instance:\n",
    "\n",
    "**'Departures' and 'Hires'** appear to have a right-skewed distribution, where most of the data is clustered around the lower values with some higher values extending to the right.\n",
    "\n",
    "**'Ratio'** has a central peak with tails extending to both the left and right, indicating variability in whether companies have a net inflow or outflow of employees.\n",
    "\n",
    "**'Net change'** also has a central peak with a spread that suggests variability in the net change of employees among companies."
   ]
  },
  {
   "cell_type": "markdown",
   "id": "88837003",
   "metadata": {},
   "source": [
    "### Visualizing Correlations with a Heatmap for the 'Company Movements' Sheet"
   ]
  },
  {
   "cell_type": "markdown",
   "id": "bd947209",
   "metadata": {},
   "source": [
    "The script performs a correlation analysis on the 'Company Movements' sheet, specifically examining the relationships between 'Hires', 'Departures', 'Ratio', and 'Net change'."
   ]
  },
  {
   "cell_type": "code",
   "execution_count": 52,
   "id": "b5e96195",
   "metadata": {},
   "outputs": [
    {
     "name": "stdout",
     "output_type": "stream",
     "text": [
      "               Hires  Departures     Ratio  Net change\n",
      "Hires       1.000000    0.165036  0.520430    0.519088\n",
      "Departures  0.165036    1.000000 -0.713526   -0.757332\n",
      "Ratio       0.520430   -0.713526  1.000000    0.962925\n",
      "Net change  0.519088   -0.757332  0.962925    1.000000\n"
     ]
    },
    {
     "data": {
      "image/png": "[encoded data removed]",
      "text/plain": [
       "<Figure size 400x300 with 1 Axes>"
      ]
     },
     "metadata": {},
     "output_type": "display_data"
    }
   ],
   "source": [
    "# Assuming excel_file is the ExcelFile object\n",
    "sheet_name = 'Company Movements'\n",
    "df = pd.read_excel(excel_file, sheet_name)\n",
    "\n",
    "# Select relevant columns for correlation and heatmap\n",
    "relevant_columns = ['Hires', 'Departures', 'Ratio', 'Net change']\n",
    "correlation_matrix = df[relevant_columns].corr(method='pearson')\n",
    "mask = np.triu(np.ones_like(correlation_matrix))\n",
    "print(correlation_matrix)\n",
    "\n",
    "\n",
    "# Loop through different colormaps and visualize the correlation matrix\n",
    "#colormaps = ['viridis', 'plasma', 'inferno', 'magma', 'cividis', 'coolwarm', 'Blues', 'Reds', 'Greens', 'BuPu', 'YlGnBu', 'Oranges', 'Purples']\n",
    "#for cmap in colormaps:\n",
    "    #sns.heatmap(correlation_matrix, annot=True, cmap=cmap, vmin=-1, vmax=1)\n",
    "     #plt.title(f'Correlation Heatmap ({cmap} colormap)')\n",
    "    #plt.show()\n",
    "    \n",
    "# Set the size of the figure \n",
    "plt.figure(figsize=(4,3))       \n",
    "    \n",
    "# Create a heatmap\n",
    "heatmap=sns.heatmap(correlation_matrix, annot=True, cmap='Blues',mask=mask, cbar=None, vmin=-1, vmax=1, annot_kws={\"size\": 8})\n",
    "\n",
    "\n",
    "plt.title('Correlation Heatmap',fontsize=9)\n",
    "# Adjust the font size of x-axis (column names) and y-axis (row names)\n",
    "heatmap.set_xticklabels(heatmap.get_xticklabels(), fontsize=8)\n",
    "heatmap.set_yticklabels(heatmap.get_yticklabels(), fontsize=8)\n",
    "plt.show()"
   ]
  },
  {
   "cell_type": "markdown",
   "id": "546a9907",
   "metadata": {},
   "source": [
    "### Analyzing the result\n",
    "\n",
    "The matrix appears to be a correlation matrix for the variables 'Hires', 'Departures', 'Ratio', and 'Net change'. Here's a breakdown of what these correlations mean:\n",
    "\n",
    "**Hires and Departures (0.165036):** This positive, but relatively low, correlation suggests there is a slight relationship between the number of hires and departures. This could indicate that companies with more hires also have more departures, but the relationship is not strong.\n",
    "\n",
    "**Hires and Ratio (0.520430):** There is a moderate positive correlation between hires and the ratio of hires to departures. This suggests that as the number of hires increases, the ratio tends to be higher, which could indicate a net inflow of talent.\n",
    "\n",
    "**Hires and Net Change (0.519088):** This moderate positive correlation implies that an increase in hires is generally associated with an increase in net change, meaning companies hiring more people tend to have a positive net employee growth.\n",
    "\n",
    "**Departures and Ratio (-0.713526):** This strong negative correlation indicates that higher departures are associated with a lower ratio, which would be expected since a higher number of departures compared to hires would decrease the ratio.\n",
    "\n",
    "**Departures and Net Change (-0.757332):** This strong negative correlation suggests that an increase in departures is likely to lead to a more negative net change in employees, indicating a net loss of employees.\n",
    "\n",
    "**Ratio and Net Change (0.962925):** The very strong positive correlation indicates that the ratio of hires to departures is highly indicative of the overall net change in employees. A high ratio, which indicates more hires relative to departures, is closely associated with a positive net change, and vice versa.\n",
    "\n",
    "\n"
   ]
  },
  {
   "cell_type": "markdown",
   "id": "53c78521",
   "metadata": {},
   "source": [
    "### Talent flow Analysis to/from other consulting companies"
   ]
  },
  {
   "cell_type": "code",
   "execution_count": 55,
   "id": "cb48160f",
   "metadata": {},
   "outputs": [
    {
     "data": {
      "text/plain": [
       "<Figure size 1200x400 with 0 Axes>"
      ]
     },
     "metadata": {},
     "output_type": "display_data"
    },
    {
     "data": {
      "image/png": "[encoded data removed]",
      "text/plain": [
       "<Figure size 640x480 with 1 Axes>"
      ]
     },
     "metadata": {},
     "output_type": "display_data"
    }
   ],
   "source": [
    "target_sheet = 'Company Movements'\n",
    "company_movements_columns = ['Company_Name', 'Departures', 'Hires']\n",
    "\n",
    "\n",
    "# Check if the target sheet exists in the Excel file\n",
    "if target_sheet in excel_file.sheet_names:\n",
    "    # Load the DataFrame for the target sheet\n",
    "    df = excel_file.parse(target_sheet)\n",
    "\n",
    "    # Filter rows where 'Consultant Company' is 1\n",
    "    df_filtered_Consultant = df[df['Consultant Company'] == 1]\n",
    "\n",
    "    # Filter columns of interest\n",
    "    df_filtered_subset = df_filtered_Consultant[company_movements_columns]\n",
    "\n",
    "    # Group by Company_Name and sum the Departures and Hires\n",
    "    df_grouped = df_filtered_subset.groupby('Company_Name').sum()\n",
    "\n",
    "    # Set colors for 'Departures' and 'Hires'\n",
    "    colors = ['#B3B3B3', '#7089AC']\n",
    "    \n",
    "    # Set the size of the figure (adjust the width and height as needed)\n",
    "    plt.figure(figsize=(12, 4))\n",
    "    \n",
    "    # Sort the DataFrame by 'Departures' in descending order\n",
    "    df_grouped_sorted = df_grouped.sort_values(by='Departures', ascending=False)\n",
    "\n",
    "    \n",
    "    # Specify the bar width\n",
    "    bar_width = 0.9  \n",
    "    \n",
    "    \n",
    "    # Create a grouped bar chart\n",
    "    ax=df_grouped_sorted.plot(kind='bar', stacked=True, color=colors, width=bar_width,)\n",
    "    \n",
    "    plt.title('Talent flow to/from other consulting companies')\n",
    "    plt.xlabel('Consulting Company')\n",
    "  \n",
    "    plt.show()\n",
    "else:\n",
    "    print(f\"Sheet '{target_sheet}' not found in the Excel file.\")"
   ]
  },
  {
   "cell_type": "markdown",
   "id": "eed844d3",
   "metadata": {},
   "source": [
    "The chart primarily illustrates the flow of talent among consulting companies. The length of each bar segment shows how many employees were lost to (gray segment) or gained from (blue segment) other consulting companies.\n",
    "\n",
    "The company labeled 'Company 8' on the x-axis exhibits the most significant talent loss to other consulting firms, as indicated by the tallest gray segment"
   ]
  },
  {
   "cell_type": "markdown",
   "id": "1598cd49",
   "metadata": {},
   "source": [
    "### Talent Flow to/from other automotive companies "
   ]
  },
  {
   "cell_type": "code",
   "execution_count": 56,
   "id": "6df0dee1",
   "metadata": {},
   "outputs": [
    {
     "data": {
      "image/png": "[encoded data removed]",
      "text/plain": [
       "<Figure size 640x480 with 1 Axes>"
      ]
     },
     "metadata": {},
     "output_type": "display_data"
    }
   ],
   "source": [
    "# Filter rows where 'Automotive Company' is 1\n",
    "df_filtered_automotive = df[df['Automotive Company'] == 1]\n",
    "\n",
    "# Filter columns of interest\n",
    "df_filtered_subset2 = df_filtered_automotive[company_movements_columns]\n",
    "\n",
    "# Group by Company_Name and sum the Departures and Hires\n",
    "df_automotive = df_filtered_subset2.groupby('Company_Name').sum()\n",
    "\n",
    "# Sort the DataFrame by 'Departures' in descending order\n",
    "df_automotive_sorted = df_automotive.sort_values(by='Departures', ascending=False)\n",
    "\n",
    "# Create a grouped bar chart\n",
    "ax_automotive=df_automotive_sorted.plot(kind='bar', stacked=True, color=colors, width=bar_width)\n",
    "    \n",
    "plt.title('Talent Flow to/from other automotive companies')\n",
    "plt.xlabel('Consulting Company')\n",
    "  \n",
    "plt.show()\n"
   ]
  },
  {
   "cell_type": "markdown",
   "id": "7531d649",
   "metadata": {},
   "source": [
    "### Ratio of Hires from versus Departures to other Consulting Companies"
   ]
  },
  {
   "cell_type": "code",
   "execution_count": 57,
   "id": "4e088faa",
   "metadata": {},
   "outputs": [
    {
     "data": {
      "image/png": "[encoded data removed]",
      "text/plain": [
       "<Figure size 1200x400 with 1 Axes>"
      ]
     },
     "metadata": {},
     "output_type": "display_data"
    }
   ],
   "source": [
    "# Check if the target sheet exists in the Excel file\n",
    "if target_sheet in excel_file.sheet_names:\n",
    "    \n",
    "    # Load the DataFrame for the target sheet\n",
    "    df = excel_file.parse(target_sheet)\n",
    "\n",
    "    # Group by Company_Name and calculate the mean of 'Ratio'\n",
    "    df_ratio_grouped = df_filtered_Consultant.groupby('Company_Name')['Ratio'].mean()\n",
    "\n",
    "    \n",
    "    # Set the size of the figure \n",
    "    plt.figure(figsize=(12,4))\n",
    "    \n",
    "    # Sort the DataFrame by  descending order\n",
    "    df_ratio_grouped_sorted = df_ratio_grouped.sort_values(ascending=False)\n",
    "    \n",
    "    # Set the colors for 'Ratio'\n",
    "    colors = df_ratio_grouped_sorted.apply(lambda x: '#9E2A2B' if x < 0 else '#B3B3B3')\n",
    "\n",
    "    # Specify the bar width\n",
    "    bar_width = 0.9  \n",
    "    \n",
    "    # Create a grouped bar chart\n",
    "    ax1 = df_ratio_grouped_sorted.plot(kind='bar', color=colors, width=bar_width)\n",
    "    \n",
    "    plt.title('Ratio of Hires from versus Departures to other Consulting Companies')\n",
    "    plt.xlabel('Consulting Company')\n",
    "  \n",
    "    plt.show()\n",
    "else:\n",
    "    print(f\"Sheet '{target_sheet}' not found in the Excel file.\")\n"
   ]
  },
  {
   "cell_type": "markdown",
   "id": "495d22bd",
   "metadata": {},
   "source": [
    "### Ratio of Hires from versus Departures to Automotive Companies"
   ]
  },
  {
   "cell_type": "code",
   "execution_count": 58,
   "id": "197b3bf9",
   "metadata": {},
   "outputs": [
    {
     "data": {
      "image/png": "[encoded data removed]",
      "text/plain": [
       "<Figure size 1200x400 with 1 Axes>"
      ]
     },
     "metadata": {},
     "output_type": "display_data"
    }
   ],
   "source": [
    "    # Group by Company_Name and calculate the mean of 'Ratio'\n",
    "df_ratio2_grouped = df_filtered_automotive.groupby('Company_Name')['Ratio'].mean()\n",
    "\n",
    "    \n",
    "    # Set the size of the figure \n",
    "plt.figure(figsize=(12,4))\n",
    "    \n",
    "    # Sort the DataFrame by  descending order\n",
    "df_ratio2_grouped_sorted = df_ratio2_grouped.sort_values(ascending=False)\n",
    "    \n",
    "    # Set the colors for 'Ratio'\n",
    "colors = df_ratio2_grouped_sorted.apply(lambda x: '#7089AC' if x < 0 else '#B3B3B3')\n",
    "\n",
    "    # Specify the bar width\n",
    "bar_width = 0.9  \n",
    "    \n",
    "    # Create a grouped bar chart\n",
    "ax2 = df_ratio2_grouped_sorted.plot(kind='bar', color=colors, width=bar_width)\n",
    "    \n",
    "plt.title('Ratio of Hires from versus Departures to Automotive Companies')\n",
    "plt.xlabel('Consulting Company')\n",
    "  \n",
    "plt.show()\n"
   ]
  },
  {
   "cell_type": "markdown",
   "id": "58980091",
   "metadata": {},
   "source": [
    "### Summary of Total Talent Flow Across the 'Company Movements' Sheet"
   ]
  },
  {
   "cell_type": "code",
   "execution_count": 59,
   "id": "afa1c64d",
   "metadata": {},
   "outputs": [
    {
     "name": "stdout",
     "output_type": "stream",
     "text": [
      "Summary of total talent Flow\n",
      "------------------------------------------------------------\n",
      "Departures    1649.00\n",
      "Hires         2154.00\n",
      "Net change     505.00\n",
      "Ratio            0.26\n",
      "dtype: float64\n"
     ]
    }
   ],
   "source": [
    "# Calculating and Displaying Summary Statistics for Talent Flow\n",
    "\n",
    "df_summary = df.agg({\n",
    "    'Departures': 'sum',\n",
    "    'Hires': 'sum',\n",
    "    'Net change': 'sum',\n",
    "    'Ratio': 'mean',\n",
    "    \n",
    "})\n",
    "\n",
    "# Format 'Ratio' column to display values with 2 decimal places\n",
    "df_summary['Ratio'] = df_summary['Ratio'].round(2)\n",
    "\n",
    "print('Summary of total talent Flow')\n",
    "print('-' * 60)\n",
    "print(df_summary)"
   ]
  },
  {
   "cell_type": "markdown",
   "id": "4ce019e2",
   "metadata": {},
   "source": [
    " Such a summary is crucial for strategic decision-making, as it reflects the company-wide trends in talent acquisition and loss, potentially guiding HR strategies and business planning."
   ]
  },
  {
   "cell_type": "markdown",
   "id": "e056fa3e",
   "metadata": {},
   "source": [
    " ## Summary of Talent Flow for Each Consulting Company"
   ]
  },
  {
   "cell_type": "markdown",
   "id": "e7551e31",
   "metadata": {},
   "source": [
    "This code creates a summary of talent movement metrics ('Departures', 'Hires', 'Net change', 'Ratio') for each consulting company, sorts the data by 'Departures', and formats the 'Ratio' for clear presentation."
   ]
  },
  {
   "cell_type": "code",
   "execution_count": 60,
   "id": "c37fdf69",
   "metadata": {},
   "outputs": [
    {
     "name": "stdout",
     "output_type": "stream",
     "text": [
      "Summary of talent Flow for each consulting companies\n",
      "------------------------------------------------------------\n",
      "              Departures  Hires  Net change  Ratio\n",
      "Company_Name                                      \n",
      "Company 8            221    225           4   0.21\n",
      "Company 4            145    135         -10  -0.09\n",
      "Company 1            120    140          20   0.23\n",
      "Company 13           104     79         -25  -0.19\n",
      "Company 37            95      4         -91  -1.40\n",
      "Company 36            84    125          41   0.49\n",
      "Company 35            81     74          -7  -0.04\n",
      "Company 32            61    116          55   0.63\n",
      "Company 14            57     85          28   0.33\n",
      "Company 22            56     66          10   0.19\n",
      "Company 15            49    132          83   0.94\n",
      "Company 27            47    104          57   0.62\n",
      "Company 7             46     38          -8  -0.01\n",
      "Company 28            46    121          75   0.88\n",
      "Company 40            42    110          68   0.72\n",
      "Company 39            39     18         -21  -0.41\n",
      "Company 18            36     52          16   0.24\n",
      "Company 26            35     21         -14  -0.29\n",
      "Company 2             33     13         -20  -0.62\n",
      "Company 17            28    146         118   1.26\n",
      "Company 34            28     31           3   0.06\n",
      "Company 33            23     14          -9  -0.31\n",
      "Company 41            21     25           4   0.09\n",
      "Company 31            18     28          10   0.31\n",
      "Company 24            18     21           3   0.12\n",
      "Company 10            14     36          22   0.51\n",
      "Company 19            12     10          -2  -0.10\n",
      "Company 29            11      7          -4  -0.29\n",
      "Company 23            10     18           8   0.32\n",
      "Company 6             10     21          11   0.36\n",
      "Company 25            10     17           7   0.29\n",
      "Company 5              7     50          43   0.86\n",
      "Company 16             7      7           0   0.20\n",
      "Company 21             7      1          -6  -0.75\n",
      "Company 38             7     12           5   0.31\n",
      "Company 20             7     15           8   0.38\n",
      "Company 30             6      5          -1  -0.09\n",
      "Company 9              4     21          17   0.86\n",
      "Company 12             2      3           1   0.50\n",
      "Company 11             2      2           0   0.00\n",
      "Company 3              0      6           6   1.00\n"
     ]
    }
   ],
   "source": [
    "df_summary1 = df.groupby('Company_Name').agg({\n",
    "    'Departures': 'sum',\n",
    "    'Hires': 'sum',\n",
    "    'Net change': 'sum',\n",
    "    'Ratio': 'mean',\n",
    "})\n",
    "\n",
    "# Sort the DataFrame by 'Departures' in descending order\n",
    "df_summary1_sorted = df_summary1.sort_values(by='Departures', ascending=False)\n",
    "\n",
    "# Format 'Ratio' column to display values with 2 decimal places\n",
    "df_summary1_sorted['Ratio'] = df_summary1_sorted['Ratio'].round(2)\n",
    "\n",
    "print('Summary of talent Flow for each consulting companies')\n",
    "print('-' * 60)\n",
    "print(df_summary1_sorted)"
   ]
  },
  {
   "cell_type": "markdown",
   "id": "ccd9f816",
   "metadata": {},
   "source": [
    "### Summarized Talent Flow Metrics by Consulting Company\n",
    "\n",
    "The script compiles and sorts aggregate talent flow statistics for each consulting company present in the 'Company Movements' sheet.\n",
    "\n",
    "#### Steps for Generating Company-Wise Summary:\n",
    "\n",
    "1. **Group and Aggregate**:\n",
    "   - The data is grouped by 'Company_Name'.\n",
    "   - Summations are performed for 'Departures', 'Hires', and 'Net change' to get total figures.\n",
    "   - The mean for 'Ratio' is calculated to understand the average relationship between hires and departures.\n",
    "\n",
    "2. **Sorting the Summary**:\n",
    "   - The resulting summary DataFrame is sorted by 'Departures' in descending order to highlight companies with the largest talent loss first.\n",
    "\n",
    "3. **Formatting for Clarity**:\n",
    "   - The 'Ratio' values are formatted to show only two decimal places, ensuring the data is easy to read and interpret.\n",
    "\n",
    "4. **Printing the Summary**:\n",
    "   - A clear title 'Summary of talent Flow for each consulting companies' is printed to describe the content.\n",
    "   - A separator line is included for visual distinction between the title and the summary data.\n",
    "   - The sorted summary DataFrame is printed, displaying the talent flow metrics for each company.\n",
    "\n",
    "#### Purpose of the Summary:\n",
    "- By highlighting the total 'Departures' and 'Hires' alongside the net change in headcount and the average ratio of hires to departures, the summary captures key aspects of each company's talent movement.\n",
    "- The structured presentation of this data is essential for strategic HR considerations, informing potential retention challenges or talent acquisition opportunities.\n"
   ]
  },
  {
   "cell_type": "markdown",
   "id": "fb65c7fd",
   "metadata": {},
   "source": [
    "## Aggregated Talent Flow Between Consultant Companies"
   ]
  },
  {
   "cell_type": "markdown",
   "id": "3d7d1e80",
   "metadata": {},
   "source": [
    "The script processes data to provide a concise summary of the overall talent movement between consultant companies.\n"
   ]
  },
  {
   "cell_type": "code",
   "execution_count": 61,
   "id": "8225e194",
   "metadata": {},
   "outputs": [
    {
     "name": "stdout",
     "output_type": "stream",
     "text": [
      "Talent Flow between consultant companies\n",
      "------------------------------------------------------------\n",
      "Departures    343.00\n",
      "Hires         397.00\n",
      "Net change     54.00\n",
      "Ratio           0.22\n",
      "dtype: float64\n"
     ]
    }
   ],
   "source": [
    "df_summary_consultant =  df_filtered_Consultant.agg({\n",
    "    'Departures': 'sum',\n",
    "    'Hires': 'sum',\n",
    "    'Net change': 'sum',\n",
    "    'Ratio': 'mean',\n",
    "    \n",
    "})\n",
    "\n",
    "# Format 'Ratio' column to display values with 2 decimal places\n",
    "df_summary_consultant['Ratio'] = df_summary_consultant['Ratio'].round(2)\n",
    "\n",
    "print('Talent Flow between consultant companies')\n",
    "print('-' * 60)\n",
    "print(df_summary_consultant)"
   ]
  },
  {
   "cell_type": "markdown",
   "id": "f617c166",
   "metadata": {},
   "source": [
    "## Summary of Talent Flow to/from Other Consulting Companies for Each Consulting Company"
   ]
  },
  {
   "cell_type": "code",
   "execution_count": 62,
   "id": "bf0db1bf",
   "metadata": {},
   "outputs": [
    {
     "name": "stdout",
     "output_type": "stream",
     "text": [
      "Summary of talent Flow to/from other consulting companies\n",
      "------------------------------------------------------------\n",
      "              Departures  Hires  Net change  Ratio\n",
      "Company_Name                                      \n",
      "Company 8             67     53         -14  -0.45\n",
      "Company 13            32     16         -16  -0.65\n",
      "Company 40            19     14          -5  -0.46\n",
      "Company 4             19     20           1   0.07\n",
      "Company 1             17     18           1  -0.18\n",
      "Company 37            17      0         -17  -1.42\n",
      "Company 28            15     36          21   1.11\n",
      "Company 14            15     12          -3  -0.08\n",
      "Company 32            14     23           9   0.69\n",
      "Company 22            13      9          -4  -0.12\n",
      "Company 35            12      5          -7  -0.55\n",
      "Company 27            11     23          12   0.75\n",
      "Company 15            10     11           1   0.14\n",
      "Company 39            10      5          -5  -0.33\n",
      "Company 17             9     53          44   1.83\n",
      "Company 7              9      8          -1   0.08\n",
      "Company 36             6     30          24   1.44\n",
      "Company 26             5      7           2   0.30\n",
      "Company 2              5      2          -3  -0.60\n",
      "Company 33             4      1          -3  -0.75\n",
      "Company 29             4      0          -4  -1.33\n",
      "Company 31             3      5           2   0.40\n",
      "Company 10             3      4           1   0.17\n",
      "Company 16             3      1          -2  -0.50\n",
      "Company 38             2      1          -1   0.00\n",
      "Company 23             2      2           0   0.00\n",
      "Company 18             2      6           4   0.57\n",
      "Company 30             2      0          -2  -1.00\n",
      "Company 9              2      4           2   0.33\n",
      "Company 24             2      4           2   0.60\n",
      "Company 34             2      9           7   1.00\n",
      "Company 25             2      0          -2  -1.00\n",
      "Company 21             1      0          -1  -1.00\n",
      "Company 19             1      0          -1  -1.00\n",
      "Company 41             1      1           0   0.00\n",
      "Company 5              1      7           6   1.00\n",
      "Company 11             1      1           0   0.00\n",
      "Company 20             0      2           2   1.00\n",
      "Company 6              0      3           3   1.50\n",
      "Company 3              0      1           1   1.00\n"
     ]
    }
   ],
   "source": [
    "#Summary of Talent Flow to/from other consulting companies'\n",
    "\n",
    "df_summary_consultant1 = df_filtered_Consultant.groupby('Company_Name').agg({\n",
    "    'Departures': 'sum',\n",
    "    'Hires': 'sum',\n",
    "    'Net change': 'sum',\n",
    "    'Ratio': 'mean',\n",
    "})\n",
    "\n",
    "# Format 'Ratio' column to display values with 2 decimal places\n",
    "df_summary_consultant1['Ratio'] = df_summary_consultant1['Ratio'].round(2)\n",
    "\n",
    "df_summary_consultant1_sorted = df_summary_consultant1.sort_values(by='Departures', ascending=False)\n",
    "\n",
    "print('Summary of talent Flow to/from other consulting companies')\n",
    "print('-' * 60)\n",
    "print(df_summary_consultant1_sorted)"
   ]
  },
  {
   "cell_type": "markdown",
   "id": "8fbc1ff9",
   "metadata": {},
   "source": [
    "### Summary of Talent Flow to/from Other Consulting Companies\n",
    "\n",
    "The script calculates and displays a comprehensive summary of talent movement metrics, grouped by each consulting company.\n",
    "\n",
    "#### Summary Generation Procedure:\n",
    "\n",
    "1. **Group and Compute**:\n",
    "   - The data is grouped by 'Company_Name'.\n",
    "   - Aggregate functions are applied to sum 'Departures' and 'Hires', sum 'Net change', and calculate the mean 'Ratio'.\n",
    "\n",
    "2. **Formatting and Sorting**:\n",
    "   - The 'Ratio' is formatted to two decimal places to maintain consistency and readability.\n",
    "   - The DataFrame is then sorted by 'Departures' in descending order to highlight companies with the highest talent loss.\n",
    "\n",
    "3. **Displaying the Summary**:\n",
    "   - The title 'Summary of talent Flow to/from other consulting companies' is printed to clearly indicate the content.\n",
    "   - A separator line is included for visual clarity.\n",
    "   - The sorted summary statistics are printed, presenting a clear picture of the talent flow for each consulting company.\n",
    "\n",
    "#### Purpose of the Summary:\n",
    "\n",
    "- This summary provides an in-depth look at how talent is moving between consulting firms, identifying which companies are net gainers or losers of talent.\n",
    "- The total 'Departures' and 'Hires' give an idea of the volume of talent exchange, while the 'Net change' and 'Ratio' offer insight into the overall trend of talent movement within the consulting sector.\n",
    "- The formatted and sorted summary is crucial for strategic HR analysis, enabling stakeholders to quickly identify trends and make informed decisions regarding talent management.\n"
   ]
  },
  {
   "cell_type": "markdown",
   "id": "78e83dcb",
   "metadata": {},
   "source": [
    "## Top 10 Companies with the Highest Talent Flow to Consulting Firms"
   ]
  },
  {
   "cell_type": "markdown",
   "id": "9bc45cf4",
   "metadata": {},
   "source": [
    "The script identifies and displays the top 10 companies with the most significant talent movement towards consulting firms."
   ]
  },
  {
   "cell_type": "code",
   "execution_count": 63,
   "id": "c5e1cabb",
   "metadata": {},
   "outputs": [
    {
     "name": "stdout",
     "output_type": "stream",
     "text": [
      "Top 10 companies with the most talent flow to consulting companies\n",
      "------------------------------------------------------------\n",
      "              Departures  Hires  Net change  Ratio\n",
      "Company_Name                                      \n",
      "Company 8             67     53         -14  -0.45\n",
      "Company 13            32     16         -16  -0.65\n",
      "Company 40            19     14          -5  -0.46\n",
      "Company 4             19     20           1   0.07\n",
      "Company 1             17     18           1  -0.18\n",
      "Company 37            17      0         -17  -1.42\n",
      "Company 28            15     36          21   1.11\n",
      "Company 14            15     12          -3  -0.08\n",
      "Company 32            14     23           9   0.69\n",
      "Company 22            13      9          -4  -0.12\n"
     ]
    }
   ],
   "source": [
    "print('Top 10 companies with the most talent flow to consulting companies')\n",
    "print('-' * 60)\n",
    "print(df_summary_consultant1_sorted.head(10))"
   ]
  },
  {
   "cell_type": "markdown",
   "id": "3bd21efb",
   "metadata": {},
   "source": [
    "## Top 10 Companies with the Highest Inflow of Talent from Consulting Firms"
   ]
  },
  {
   "cell_type": "markdown",
   "id": "c571dfa3",
   "metadata": {},
   "source": [
    "The script ranks consulting companies based on the volume of talent they have acquired from other consulting firms and presents the top performers.\n"
   ]
  },
  {
   "cell_type": "code",
   "execution_count": 64,
   "id": "83b03d18",
   "metadata": {},
   "outputs": [
    {
     "name": "stdout",
     "output_type": "stream",
     "text": [
      "Top 10 companies with the most talent flow from consulting companies\n",
      "------------------------------------------------------------\n",
      "              Departures  Hires  Net change  Ratio\n",
      "Company_Name                                      \n",
      "Company 17             9     53          44   1.83\n",
      "Company 8             67     53         -14  -0.45\n",
      "Company 28            15     36          21   1.11\n",
      "Company 36             6     30          24   1.44\n",
      "Company 32            14     23           9   0.69\n",
      "Company 27            11     23          12   0.75\n",
      "Company 4             19     20           1   0.07\n",
      "Company 1             17     18           1  -0.18\n",
      "Company 13            32     16         -16  -0.65\n",
      "Company 40            19     14          -5  -0.46\n"
     ]
    }
   ],
   "source": [
    "df_summary_consultant2_sorted = df_summary_consultant1.sort_values(by='Hires', ascending=False)\n",
    "\n",
    "print('Top 10 companies with the most talent flow from consulting companies')\n",
    "print('-' * 60)\n",
    "print(df_summary_consultant2_sorted.head(10))"
   ]
  },
  {
   "cell_type": "markdown",
   "id": "49cdc3a3",
   "metadata": {},
   "source": [
    "#### Purpose of the Top 10 List:\n",
    "\n",
    "- This list provides valuable insights into the consulting companies that are most successful in attracting talent, potentially indicating a strong employer brand or growth phase.\n",
    "- The summary can inform competitive analysis, allowing consulting firms to benchmark their talent acquisition performance against industry peers.\n",
    "- Understanding these dynamics is critical for consulting firms aiming to enhance their talent acquisition strategies and bolster their workforce."
   ]
  },
  {
   "cell_type": "markdown",
   "id": "1d65b42b",
   "metadata": {},
   "source": [
    "## Aggregated Talent Flow  to Automotive Companies"
   ]
  },
  {
   "cell_type": "markdown",
   "id": "91ee8e42",
   "metadata": {},
   "source": [
    "This code snippet calculates the sum of 'Departures' and 'Hires', the sum of 'Net change', and the mean of 'Ratio' to provide an overview of the talent flow to automotive companies from the consulting sector."
   ]
  },
  {
   "cell_type": "code",
   "execution_count": 65,
   "id": "4ea9e7cc",
   "metadata": {},
   "outputs": [
    {
     "name": "stdout",
     "output_type": "stream",
     "text": [
      "Talent Flow to automotive companies\n",
      "------------------------------------------------------------\n",
      "Departures    513.0\n",
      "Hires         454.0\n",
      "Net change    -59.0\n",
      "Ratio          -0.1\n",
      "dtype: float64\n"
     ]
    }
   ],
   "source": [
    "df_summary_automotive =  df_filtered_automotive.agg({\n",
    "    'Departures': 'sum',\n",
    "    'Hires': 'sum',\n",
    "    'Net change': 'sum',\n",
    "    'Ratio': 'mean',\n",
    "    \n",
    "})\n",
    "\n",
    "# Format 'Ratio' column to display values with 2 decimal places\n",
    "df_summary_automotive['Ratio'] = df_summary_automotive['Ratio'].round(2)\n",
    "\n",
    "print('Talent Flow to automotive companies')\n",
    "print('-' * 60)\n",
    "print(df_summary_automotive)"
   ]
  },
  {
   "cell_type": "markdown",
   "id": "b7263d62",
   "metadata": {},
   "source": [
    "### Summary of Talent Movement to Automotive Companies\n",
    "\n",
    "The script compiles key statistics to understand the aggregate talent flow from consulting firms to the automotive sector.\n",
    "\n",
    "#### Compilation Procedure:\n",
    "\n",
    "1. **Aggregate Calculations**:\n",
    "   - Totals for 'Departures' and 'Hires' are calculated to quantify the talent movement.\n",
    "   - 'Net change' is summed to determine the overall headcount impact.\n",
    "   - The 'Ratio' is averaged to understand the typical balance of hires to departures.\n",
    "\n",
    "2. **Formatting the 'Ratio'**:\n",
    "   - The 'Ratio' is rounded to two decimal places for precision and ease of interpretation.\n",
    "\n",
    "3. **Presenting the Summary**:\n",
    "   - The title 'Talent Flow to automotive companies' is displayed to indicate the focus of the summary.\n",
    "   - A visual separator line is used to distinguish the heading from the data.\n",
    "   - The aggregated statistics are printed, providing a snapshot of the talent flow to automotive companies.\n",
    "\n",
    "#### Purpose of the Summary:\n",
    "\n",
    "- This summary captures the essence of talent dynamics between consulting firms and the automotive sector, indicating the volume of talent exchange.\n",
    "- The figures serve as indicators of market trends, potentially signaling the consulting sector's attractiveness to automotive professionals.\n",
    "- The average 'Ratio' offers insight into whether there's generally a net inflow or outflow of talent to the automotive industry from these companies.\n"
   ]
  },
  {
   "cell_type": "markdown",
   "id": "df40a730",
   "metadata": {},
   "source": [
    "## Summary of Talent Flow to/from Automotive Companies for Each Consulting Company"
   ]
  },
  {
   "cell_type": "code",
   "execution_count": 66,
   "id": "20f63836",
   "metadata": {},
   "outputs": [
    {
     "name": "stdout",
     "output_type": "stream",
     "text": [
      "Summary of talent flow to/from other automotive companies\n",
      "------------------------------------------------------------\n",
      "              Departures  Hires  Net change  Ratio\n",
      "Company_Name                                      \n",
      "Company 1             65     34         -31  -0.75\n",
      "Company 8             60     54          -6  -0.16\n",
      "Company 4             41     43           2  -0.25\n",
      "Company 36            30     25          -5  -0.02\n",
      "Company 32            28     23          -5  -0.72\n",
      "Company 15            27     34           7   0.90\n",
      "Company 14            23     23           0   0.01\n",
      "Company 18            18     16          -2  -0.23\n",
      "Company 2             16      5         -11  -1.09\n",
      "Company 27            16     16           0   0.17\n",
      "Company 34            15      7          -8  -0.95\n",
      "Company 35            15     10          -5  -0.35\n",
      "Company 37            15      0         -15  -1.67\n",
      "Company 13            14     13          -1   0.02\n",
      "Company 33            11      3          -8  -0.89\n",
      "Company 31            11     17           6   0.37\n",
      "Company 26             9      4          -5  -0.67\n",
      "Company 22             9      8          -1  -0.05\n",
      "Company 41             9      6          -3  -0.23\n",
      "Company 7              9      6          -3  -0.10\n",
      "Company 24             8      9           1   0.08\n",
      "Company 10             8     12           4   0.23\n",
      "Company 39             7      1          -6  -1.00\n",
      "Company 6              6      6           0  -0.55\n",
      "Company 29             6      3          -3  -0.50\n",
      "Company 38             5      7           2   0.10\n",
      "Company 20             5      4          -1  -0.12\n",
      "Company 17             5     13           8   0.67\n",
      "Company 28             4     16          12   1.45\n",
      "Company 19             4      2          -2  -0.50\n",
      "Company 16             4      4           0   0.50\n",
      "Company 40             3      5           2   1.25\n",
      "Company 12             2      3           1   0.50\n",
      "Company 9              2      1          -1   0.00\n",
      "Company 25             1      3           2   0.50\n",
      "Company 21             1      0          -1  -1.00\n",
      "Company 5              1     10           9   1.00\n",
      "Company 30             0      2           2   1.00\n",
      "Company 3              0      2           2   1.00\n",
      "Company 23             0      4           4   1.33\n"
     ]
    }
   ],
   "source": [
    "# Summary of Talent Movement to Automotive Companies for each 'Company_Name'\n",
    "\n",
    "df_summary_automotive1 = df_filtered_automotive.groupby('Company_Name').agg({\n",
    "    'Departures': 'sum',\n",
    "    'Hires': 'sum',\n",
    "    'Net change': 'sum',\n",
    "    'Ratio': 'mean',\n",
    "})\n",
    "\n",
    "df_summary_automotive1['Ratio'] = df_summary_automotive1['Ratio'].round(2)\n",
    "\n",
    "# Sort the DataFrame by 'Departures' in descending order\n",
    "df_summary_automotive1_sorted = df_summary_automotive1.sort_values(by='Departures', ascending=False)\n",
    "\n",
    "print('Summary of talent flow to/from other automotive companies')\n",
    "print('-' * 60)\n",
    "print(df_summary_automotive1_sorted)"
   ]
  },
  {
   "cell_type": "markdown",
   "id": "e734c9fd",
   "metadata": {},
   "source": [
    "##  Top 10 Companies with the Highest Talent Flow to Automotive Companies"
   ]
  },
  {
   "cell_type": "markdown",
   "id": "d42de5d0",
   "metadata": {},
   "source": [
    "This report identifies the top 10 consulting firms experiencing the most significant talent flow to automotive companies, a crucial insight for understanding talent mobility within the industry."
   ]
  },
  {
   "cell_type": "code",
   "execution_count": 67,
   "id": "85e7f90c",
   "metadata": {},
   "outputs": [
    {
     "name": "stdout",
     "output_type": "stream",
     "text": [
      "Top 10 companies with the most talent flow to automotive companies\n",
      "------------------------------------------------------------\n",
      "              Departures  Hires  Net change  Ratio\n",
      "Company_Name                                      \n",
      "Company 1             65     34         -31  -0.75\n",
      "Company 8             60     54          -6  -0.16\n",
      "Company 4             41     43           2  -0.25\n",
      "Company 36            30     25          -5  -0.02\n",
      "Company 32            28     23          -5  -0.72\n",
      "Company 15            27     34           7   0.90\n",
      "Company 14            23     23           0   0.01\n",
      "Company 18            18     16          -2  -0.23\n",
      "Company 2             16      5         -11  -1.09\n",
      "Company 27            16     16           0   0.17\n"
     ]
    }
   ],
   "source": [
    "print('Top 10 companies with the most talent flow to automotive companies')\n",
    "print('-' * 60)\n",
    "\n",
    "print(df_summary_automotive1_sorted.head(10))"
   ]
  },
  {
   "cell_type": "markdown",
   "id": "b3f99b63",
   "metadata": {},
   "source": [
    " ## Top 10 Companies with the Greatest Inflow of Talent from Automotive Companies"
   ]
  },
  {
   "cell_type": "markdown",
   "id": "de296384",
   "metadata": {},
   "source": [
    "The following list highlights the top 10 companies with the highest number of hires from the automotive industry, indicating  inflow of talent to these firms."
   ]
  },
  {
   "cell_type": "code",
   "execution_count": 68,
   "id": "43197650",
   "metadata": {},
   "outputs": [
    {
     "name": "stdout",
     "output_type": "stream",
     "text": [
      "Top 10 companies with the most talent flow from automotive companies\n",
      "------------------------------------------------------------\n",
      "              Departures  Hires  Net change  Ratio\n",
      "Company_Name                                      \n",
      "Company 8             60     54          -6  -0.16\n",
      "Company 4             41     43           2  -0.25\n",
      "Company 1             65     34         -31  -0.75\n",
      "Company 15            27     34           7   0.90\n",
      "Company 36            30     25          -5  -0.02\n",
      "Company 14            23     23           0   0.01\n",
      "Company 32            28     23          -5  -0.72\n",
      "Company 31            11     17           6   0.37\n",
      "Company 28             4     16          12   1.45\n",
      "Company 27            16     16           0   0.17\n"
     ]
    }
   ],
   "source": [
    "# Sort the DataFrame by 'Departures' in descending order\n",
    "df_summary_automotive_sorted2 = df_summary_automotive1.sort_values(by='Hires', ascending=False)\n",
    "\n",
    "print('Top 10 companies with the most talent flow from automotive companies')\n",
    "print('-' * 60)\n",
    "\n",
    "print(df_summary_automotive_sorted2.head(10))"
   ]
  },
  {
   "cell_type": "markdown",
   "id": "898bc8b1",
   "metadata": {},
   "source": [
    "# Statistical Analysis:T-Test"
   ]
  },
  {
   "cell_type": "markdown",
   "id": "8b3d66f9",
   "metadata": {},
   "source": [
    "Hypothesis / Assumption: Most companies replace departures with new hires, so small differences during any time period are part of a normal turnover and thus not meaningful, but when differences are large, it can be an indicator of a company's ability to attract and retain talent. We identifying the companies for which either departures or hires are real using tests of statistical significance. \n",
    "\n",
    "H0(null hypothesis): There is no evidence that there is a real (statistically significant) difference between departures and new hires.(Departures = Hires)\n",
    "\n",
    "H1(alternative hypothesis): There is evidence that there is a real difference between departures and new hires (Departures =! Hires)"
   ]
  },
  {
   "cell_type": "code",
   "execution_count": 69,
   "id": "3ac6c3e5",
   "metadata": {},
   "outputs": [
    {
     "name": "stdout",
     "output_type": "stream",
     "text": [
      "     Company_Name     Good Consultant2\n",
      "0       Company 1   Departures = Hires\n",
      "1       Company 1   Departures = Hires\n",
      "2       Company 1   Departures = Hires\n",
      "3       Company 1   Departures = Hires\n",
      "4       Company 1   Departures = Hires\n",
      "...           ...                  ...\n",
      "2325    Company 9  Departures =! Hires\n",
      "2326    Company 9  Departures =! Hires\n",
      "2327    Company 9  Departures =! Hires\n",
      "2328    Company 9  Departures =! Hires\n",
      "2329    Company 9  Departures =! Hires\n",
      "\n",
      "[2330 rows x 2 columns]\n"
     ]
    },
    {
     "name": "stderr",
     "output_type": "stream",
     "text": [
      "C:\\Zohreh\\anaconda3\\Lib\\site-packages\\scipy\\stats\\_axis_nan_policy.py:523: RuntimeWarning: Precision loss occurred in moment calculation due to catastrophic cancellation. This occurs when the data are nearly identical. Results may be unreliable.\n",
      "  res = hypotest_fun_out(*samples, **kwds)\n"
     ]
    }
   ],
   "source": [
    "#Statistical Comparison of Departures and Hires in Consulting Companies\n",
    "\n",
    "sheet_name = 'Company Movements'\n",
    "\n",
    "# Read the data into a DataFrame\n",
    "df = pd.read_excel(excel_file, sheet_name=sheet_name)\n",
    "\n",
    "# Get unique company names\n",
    "unique_companies = df['Company_Name'].unique()\n",
    "\n",
    "# Create a new column\n",
    "df['Good Consultant2'] = ''\n",
    "\n",
    "# Iterate over unique companies\n",
    "for company in unique_companies:\n",
    "    # Extract data for the current company\n",
    "    company_data = df[df['Company_Name'] == company]\n",
    "    departures = company_data['Departures']\n",
    "    hires = company_data['Hires']\n",
    "    \n",
    "        # Not normal, dependent, but equal variances, use Mann-Whitney U Test\n",
    "    stat, pvalue = ttest_ind(departures, hires)\n",
    "    result = 'Departures =! Hires' if pvalue < 0.025 else 'Departures = Hires'\n",
    "        \n",
    "\n",
    "    # Update the 'Good Consultant' column\n",
    "    df.loc[df['Company_Name'] == company, 'Good Consultant2'] = result\n",
    "\n",
    "# Display the DataFrame with the new column\n",
    "print(df[['Company_Name', 'Good Consultant2']])\n",
    "\n"
   ]
  },
  {
   "cell_type": "markdown",
   "id": "95d93971",
   "metadata": {},
   "source": [
    "The script applies a T-test to each company's talent flow data to determine if there's a significant difference between the number of departures and hires.\n",
    "\n",
    "#### Analysis Workflow:\n",
    "\n",
    "1. **Data Preparation**:\n",
    "   - The 'Company Movements' sheet is read into a DataFrame.\n",
    "   - Unique company names are extracted for analysis.\n",
    "\n",
    "2. **Column Initialization**:\n",
    "   - A new column, 'Good Consultant2', is added to the DataFrame to store the results of the statistical test.\n",
    "\n",
    "3. **Iterative T-Test**:\n",
    "   - For each company, the script extracts the data on departures and hires.\n",
    "   - A T-test (`ttest_ind`) is performed to compare these two datasets.\n",
    "   - The p-value is used to determine if there's a significant difference between departures and hires (with a significance level of 2.5%).\n",
    "\n",
    "4. **Result Assignment**:\n",
    "   - Based on the p-value, the 'Good Consultant2' column is updated with either 'Departures =! Hires' (indicating a significant difference) or 'Departures = Hires' (no significant difference).\n",
    "\n",
    "5. **Output Display**:\n",
    "   - The DataFrame, with the new column showing the test results for each company, is printed.\n",
    "\n",
    "#### Purpose of the Analysis:\n",
    "\n",
    "- This method provides insights into whether consulting firms have a balanced talent flow (similar numbers of departures and hires) or if there are significant disparities.\n",
    "- The statistical approach ensures that observed differences are not due to random chance, adding rigor to the analysis.\n",
    "- Such insights can inform strategic decisions in talent management, helping companies understand if they are losing more talent than they are gaining or vice versa."
   ]
  },
  {
   "cell_type": "markdown",
   "id": "021faa1e",
   "metadata": {},
   "source": [
    "## Exporting DataFrame with T-Test Results to Excel"
   ]
  },
  {
   "cell_type": "code",
   "execution_count": 70,
   "id": "bf4b3d8f",
   "metadata": {},
   "outputs": [],
   "source": [
    "# Save the DataFrame to Excel\n",
    "df.to_excel('C:/Users/zkarimib@volvocars.com/OneDrive - Volvo Cars/Zohreh/Github/Datasets/All Consultant Companies/out/statistical Methods.xlsx', index=False)"
   ]
  },
  {
   "cell_type": "code",
   "execution_count": 71,
   "id": "d56ecca4",
   "metadata": {},
   "outputs": [
    {
     "name": "stdout",
     "output_type": "stream",
     "text": [
      "                            Location  Employees  1y hires  Job posts  \\\n",
      "0         Askersund, Orebro , Sweden          1         1          0   \n",
      "1         Borlänge, Dalarna , Sweden          1         1          0   \n",
      "2    Borås, Vastra Gotaland , Sweden          2         0          0   \n",
      "3  Eskilstuna, Sodermanland , Sweden          1         0          0   \n",
      "4            Falun, Dalarna , Sweden          1         1          0   \n",
      "\n",
      "   N Last Year Employee    Your %  1 Year Growth  % of employees Company_Name  \\\n",
      "0                   0.0  0.000000            NaN        0.001282    Company 1   \n",
      "1                   1.0  0.000000            0.0        0.001282    Company 1   \n",
      "2                   2.0  0.005062            0.0        0.002564    Company 1   \n",
      "3                   2.0  0.000000           -0.5        0.001282    Company 1   \n",
      "4                   0.0  0.000000            NaN        0.001282    Company 1   \n",
      "\n",
      "   1y growth        City             County Country  \n",
      "0        NaN   Askersund            Orebro   Sweden  \n",
      "1        NaN    Borlänge           Dalarna   Sweden  \n",
      "2        NaN       Borås   Vastra Gotaland   Sweden  \n",
      "3        NaN  Eskilstuna      Sodermanland   Sweden  \n",
      "4        NaN       Falun           Dalarna   Sweden  \n"
     ]
    }
   ],
   "source": [
    "sheet_name = 'Locations'\n",
    "\n",
    "# Read the data into a DataFrame\n",
    "df = pd.read_excel(excel_file, sheet_name=sheet_name)\n",
    "print(df.head())"
   ]
  }
 ],
 "metadata": {
  "kernelspec": {
   "display_name": "Python 3 (ipykernel)",
   "language": "python",
   "name": "python3"
  },
  "language_info": {
   "codemirror_mode": {
    "name": "ipython",
    "version": 3
   },
   "file_extension": ".py",
   "mimetype": "text/x-python",
   "name": "python",
   "nbconvert_exporter": "python",
   "pygments_lexer": "ipython3",
   "version": "3.11.5"
  }
 },
 "nbformat": 4,
 "nbformat_minor": 5
}
